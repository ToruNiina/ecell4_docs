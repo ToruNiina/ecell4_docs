{
 "cells": [
  {
   "cell_type": "markdown",
   "metadata": {},
   "source": [
    "# 2. How to Build a Model\n",
    "\n",
    "`Model` is composed of a set of `Species` and `ReactionRule`s.\n",
    "\n",
    "* `Species` describes a molecule entitie (e.g. a type or state of a protein) in the model. `Species` also has its attributes like the size.  \n",
    "* `ReactionRule` describes the interactions between `Species` (e.g. binding and unbinding)."
   ]
  },
  {
   "cell_type": "code",
   "execution_count": 1,
   "metadata": {
    "collapsed": false
   },
   "outputs": [],
   "source": [
    "%matplotlib inline\n",
    "from ecell4 import *"
   ]
  },
  {
   "cell_type": "markdown",
   "metadata": {},
   "source": [
    "## 2.1. Species\n",
    "\n",
    "`Species` can be generated with its name:"
   ]
  },
  {
   "cell_type": "code",
   "execution_count": 2,
   "metadata": {
    "collapsed": false
   },
   "outputs": [
    {
     "name": "stdout",
     "output_type": "stream",
     "text": [
      "A\n"
     ]
    }
   ],
   "source": [
    "sp1 = Species(\"A\")\n",
    "print(sp1.serial())"
   ]
  },
  {
   "cell_type": "markdown",
   "metadata": {},
   "source": [
    "A name of `Species` (called `serial`) has a number of naming rules.\n",
    "It requires attention to use special symbols (e.g. parenthesis `()`, dot `.`, underbar `_`), numbers and brank.\n",
    "\n",
    "`Species` has a set of APIs for handling its attributes:"
   ]
  },
  {
   "cell_type": "code",
   "execution_count": 3,
   "metadata": {
    "collapsed": false
   },
   "outputs": [
    {
     "name": "stdout",
     "output_type": "stream",
     "text": [
      "0.005\n",
      "False\n"
     ]
    }
   ],
   "source": [
    "sp1.set_attribute(\"radius\", \"0.005\")\n",
    "sp1.set_attribute(\"D\", \"1\")\n",
    "sp1.set_attribute(\"location\", \"cytoplasm\")\n",
    "print(sp1.get_attribute(\"radius\"))\n",
    "sp1.remove_attribute(\"radius\")\n",
    "print(sp1.has_attribute(\"radius\"))"
   ]
  },
  {
   "cell_type": "markdown",
   "metadata": {},
   "source": [
    "The arguments in `set_attribute` is the name of attribute and its value. Both of them have to be string. There is a shortcut to set the attributes above at once because `radius`, `D` (a diffusion coefficient) and `location` are frequently used."
   ]
  },
  {
   "cell_type": "code",
   "execution_count": 4,
   "metadata": {
    "collapsed": true
   },
   "outputs": [],
   "source": [
    "sp1 = Species(\"A\", \"0.005\", \"1\", \"cytoplasm\")  # serial, radius, D, location"
   ]
  },
  {
   "cell_type": "markdown",
   "metadata": {},
   "source": [
    "The equality between `Species` is just evaluated based on their serial:"
   ]
  },
  {
   "cell_type": "code",
   "execution_count": 5,
   "metadata": {
    "collapsed": false
   },
   "outputs": [
    {
     "name": "stdout",
     "output_type": "stream",
     "text": [
      "False True\n"
     ]
    }
   ],
   "source": [
    "print(Species(\"A\") == Species(\"B\"), Species(\"A\") == Species(\"A\"))"
   ]
  },
  {
   "cell_type": "markdown",
   "metadata": {},
   "source": [
    "A Species consists of one or more UnitSpecies:"
   ]
  },
  {
   "cell_type": "code",
   "execution_count": 6,
   "metadata": {
    "collapsed": false
   },
   "outputs": [
    {
     "name": "stdout",
     "output_type": "stream",
     "text": [
      "C\n",
      "C.A.B 3\n"
     ]
    }
   ],
   "source": [
    "sp1 = Species()\n",
    "usp1 = UnitSpecies(\"C\")\n",
    "print(usp1.serial())\n",
    "sp1.add_unit(usp1)\n",
    "sp1.add_unit(UnitSpecies(\"A\"))\n",
    "sp1.add_unit(UnitSpecies(\"B\"))\n",
    "print(sp1.serial(), sp1.num_units())"
   ]
  },
  {
   "cell_type": "markdown",
   "metadata": {},
   "source": [
    "A Species can be reproduced from a serial. In a serial, all serials of UnitSpecies are joined with the separator, dot `.`. The comparison between Species **matters** the oder of UnitSpecies in each Species."
   ]
  },
  {
   "cell_type": "code",
   "execution_count": 7,
   "metadata": {
    "collapsed": false,
    "scrolled": true
   },
   "outputs": [
    {
     "name": "stdout",
     "output_type": "stream",
     "text": [
      "C.A.B\n",
      "False\n",
      "True\n"
     ]
    }
   ],
   "source": [
    "sp1 = Species(\"C.A.B\")\n",
    "print(sp1.serial())\n",
    "print(Species(\"A.B.C\") == Species(\"C.A.B\"))\n",
    "print(Species(\"A.B.C\") == Species(\"A.B.C\"))"
   ]
  },
  {
   "cell_type": "markdown",
   "metadata": {},
   "source": [
    "`UnitSpecies` can have sites. Sites consists of a `name`, `state` and `bond`, and are sorted automatically in `UnitSpecies`. `name` must be unique in a `UnitSpecies`. All the value have to be string. Do not include parenthesis, dot and blank, and not start from numbers except for `bond`."
   ]
  },
  {
   "cell_type": "code",
   "execution_count": 8,
   "metadata": {
    "collapsed": false
   },
   "outputs": [
    {
     "name": "stdout",
     "output_type": "stream",
     "text": [
      "A(bs^_,ps=p^_,us=u)\n"
     ]
    }
   ],
   "source": [
    "usp1 = UnitSpecies(\"A\")\n",
    "usp1.add_site(\"us\", \"u\", \"\")\n",
    "usp1.add_site(\"ps\", \"p\", \"_\")\n",
    "usp1.add_site(\"bs\", \"\", \"_\")\n",
    "print(usp1.serial())"
   ]
  },
  {
   "cell_type": "markdown",
   "metadata": {},
   "source": [
    "`UnitSpecies` can be also reproduced from its serial. Please be careful with the order of sites where a site with a state must be placed after sites with no state specification:"
   ]
  },
  {
   "cell_type": "code",
   "execution_count": 9,
   "metadata": {
    "collapsed": false
   },
   "outputs": [
    {
     "name": "stdout",
     "output_type": "stream",
     "text": [
      "A(bs^_,ps=p^_,us=u)\n"
     ]
    }
   ],
   "source": [
    "usp1 = UnitSpecies()\n",
    "usp1.deserialize(\"A(bs^_, us=u, ps=p^_)\")\n",
    "print(usp1.serial())"
   ]
  },
  {
   "cell_type": "markdown",
   "metadata": {},
   "source": [
    "Of course, a site of `UnitSpecies` is available even in `Species`' serial."
   ]
  },
  {
   "cell_type": "code",
   "execution_count": 10,
   "metadata": {
    "collapsed": false
   },
   "outputs": [
    {
     "name": "stdout",
     "output_type": "stream",
     "text": [
      "A(bs^1,ps=u).A(bs,ps=p^1)\n",
      "2\n"
     ]
    }
   ],
   "source": [
    "sp1 = Species(\"A(bs^1, ps=u).A(bs, ps=p^1)\")\n",
    "print(sp1.serial())\n",
    "print(sp1.num_units())"
   ]
  },
  {
   "cell_type": "markdown",
   "metadata": {},
   "source": [
    "The information (`UnitSpecies` and its `site`) is used for rule-based modeling. The way of rule-based modeling in E-Cell4 will be explained in [7. Introduction of Rule-based Modeling](7. Introduction of Rule-based Modeling.ipynb)."
   ]
  },
  {
   "cell_type": "markdown",
   "metadata": {},
   "source": [
    "## 2.2. ReactionRule\n",
    "\n",
    "`ReactionRule` consists of `reactants`, `products` and `k`. `reactants` and `products` are a list of `Species`, and `k` is a kinetic rate given as a floating number."
   ]
  },
  {
   "cell_type": "code",
   "execution_count": 11,
   "metadata": {
    "collapsed": false
   },
   "outputs": [],
   "source": [
    "rr1 = ReactionRule()\n",
    "rr1.add_reactant(Species(\"A\"))\n",
    "rr1.add_reactant(Species(\"B\"))\n",
    "rr1.add_product(Species(\"C\"))\n",
    "rr1.set_k(1.0)"
   ]
  },
  {
   "cell_type": "markdown",
   "metadata": {},
   "source": [
    "Here is a binding reaction from `A` and `B` to `C`. In this reaction definition, you don't need to set attributes to `Species`. This is equivalent to call an utility function as follows: `create_binding_reaction_rule(Species(\"A\"), Species(\"B\"), Species(\"C\"), 1.0)`.\n",
    "\n",
    "To inspect `ReactionRule`, `as_string` function is available:"
   ]
  },
  {
   "cell_type": "code",
   "execution_count": 12,
   "metadata": {
    "collapsed": false
   },
   "outputs": [
    {
     "name": "stdout",
     "output_type": "stream",
     "text": [
      "A+B>C|1\n"
     ]
    }
   ],
   "source": [
    "rr1 = create_binding_reaction_rule(Species(\"A\"), Species(\"B\"), Species(\"C\"), 1.0)\n",
    "print(rr1.as_string())"
   ]
  },
  {
   "cell_type": "markdown",
   "metadata": {},
   "source": [
    "You can also provide components to the constructor:"
   ]
  },
  {
   "cell_type": "code",
   "execution_count": 13,
   "metadata": {
    "collapsed": false
   },
   "outputs": [
    {
     "name": "stdout",
     "output_type": "stream",
     "text": [
      "A+B>C|1\n"
     ]
    }
   ],
   "source": [
    "rr1 = ReactionRule([Species(\"A\"), Species(\"B\")], [Species(\"C\")], 1.0)\n",
    "print(rr1.as_string())"
   ]
  },
  {
   "cell_type": "markdown",
   "metadata": {},
   "source": [
    "In general, `ReactionRule` suggests a mass action reaction with rate `k`. `ode` solver also supports rate laws thought it's under development yet. `ode.ODERatelaw` is explained in [6. How to Solve ODEs with Rate Law Functions](6. How to Solve ODEs with Rate Law Functions.ipynb)."
   ]
  },
  {
   "cell_type": "markdown",
   "metadata": {},
   "source": [
    "## 2.3. NetworkModel\n",
    "\n",
    "Now you have known how to create components of `Model`. Next let's register these components to `Model`."
   ]
  },
  {
   "cell_type": "code",
   "execution_count": 14,
   "metadata": {
    "collapsed": true
   },
   "outputs": [],
   "source": [
    "sp1 = Species(\"A\", \"0.005\", \"1\")\n",
    "sp2 = Species(\"B\", \"0.005\", \"1\")\n",
    "sp3 = Species(\"C\", \"0.01\", \"0.5\")"
   ]
  },
  {
   "cell_type": "code",
   "execution_count": 15,
   "metadata": {
    "collapsed": true
   },
   "outputs": [],
   "source": [
    "rr1 = create_binding_reaction_rule(Species(\"A\"), Species(\"B\"), Species(\"C\"), 0.01)\n",
    "rr2 = create_unbinding_reaction_rule(Species(\"C\"), Species(\"A\"), Species(\"B\"), 0.3)"
   ]
  },
  {
   "cell_type": "markdown",
   "metadata": {},
   "source": [
    "`NetworkModel` has interfaces to register `Species` and `ReactionRule` named `add_species_attribute` and `add_reaction_rule`."
   ]
  },
  {
   "cell_type": "code",
   "execution_count": 16,
   "metadata": {
    "collapsed": true
   },
   "outputs": [],
   "source": [
    "m1 = NetworkModel()\n",
    "m1.add_species_attribute(sp1)\n",
    "m1.add_species_attribute(sp2)\n",
    "m1.add_species_attribute(sp3)\n",
    "m1.add_reaction_rule(rr1)\n",
    "m1.add_reaction_rule(rr2)"
   ]
  },
  {
   "cell_type": "markdown",
   "metadata": {},
   "source": [
    "Here is a simple model with binding and unbinding reactions. To inspect `Model`, `species_attributes` and `reaction_rules` is available:"
   ]
  },
  {
   "cell_type": "code",
   "execution_count": 17,
   "metadata": {
    "collapsed": false
   },
   "outputs": [
    {
     "name": "stdout",
     "output_type": "stream",
     "text": [
      "['A', 'B', 'C']\n",
      "['A+B>C|0.01', 'C>A+B|0.3']\n"
     ]
    }
   ],
   "source": [
    "print([sp.serial() for sp in m1.species_attributes()])\n",
    "print([rr.as_string() for rr in m1.reaction_rules()])"
   ]
  },
  {
   "cell_type": "markdown",
   "metadata": {},
   "source": [
    "`Species`' attributes in `Model` are indispensable for spatial simulations, but not necessarily needed for non-spatial algorithms, i.e. `gillespie` and `ode`. The attribute pushed first has higher priority than one pushed later. You can also attribute a `Species` based on the attributes in a `Model`."
   ]
  },
  {
   "cell_type": "code",
   "execution_count": 18,
   "metadata": {
    "collapsed": false
   },
   "outputs": [
    {
     "name": "stdout",
     "output_type": "stream",
     "text": [
      "False\n",
      "True\n",
      "0.005\n"
     ]
    }
   ],
   "source": [
    "sp1 = Species(\"A\")\n",
    "print(sp1.has_attribute(\"radius\"))\n",
    "sp2 = m1.apply_species_attributes(sp1)\n",
    "print(sp2.has_attribute(\"radius\"))\n",
    "print(sp2.get_attribute(\"radius\"))"
   ]
  },
  {
   "cell_type": "markdown",
   "metadata": {},
   "source": [
    "All functions related to `Species`, `ReactionRule` and `NetworkModel` above are available even on C++ in the same way.\n",
    "\n",
    "You can solve this model with `run_simulation` as explained in [1. Brief Tour of E-Cell4 Simulations](1. Brief Tour of E-Cell4 Simulations.ipynb):"
   ]
  },
  {
   "cell_type": "code",
   "execution_count": 19,
   "metadata": {
    "collapsed": false
   },
   "outputs": [
    {
     "data": {
      "image/png": "[encoded data removed]",
      "text/plain": [
       "<matplotlib.figure.Figure at 0x7f99b5cfb860>"
      ]
     },
     "metadata": {},
     "output_type": "display_data"
    }
   ],
   "source": [
    "run_simulation(10.0, model=m1, y0={'C': 60})"
   ]
  },
  {
   "cell_type": "markdown",
   "metadata": {},
   "source": [
    "## 2.4. Python Utilities to Build a Model\n",
    "\n",
    "As shown in [1. Brief Tour of E-Cell4 Simulations](1. Brief Tour of E-Cell4 Simulations.ipynb), E-Cell4 also provides the easier way to build a model using `with` statement:"
   ]
  },
  {
   "cell_type": "code",
   "execution_count": 20,
   "metadata": {
    "collapsed": true
   },
   "outputs": [],
   "source": [
    "with species_attributes():\n",
    "    A | B | {'radius': '0.005', 'D': '1'}\n",
    "    C | {'radius': '0.01', 'D': '0.5'}\n",
    "\n",
    "with reaction_rules():\n",
    "    A + B == C | (0.01, 0.3)\n",
    "\n",
    "m1 = get_model()"
   ]
  },
  {
   "cell_type": "markdown",
   "metadata": {},
   "source": [
    "For reversible reactions, `<>` is also available instead of `==` on Python 2, but deprecated on Python3. In the `with` statement, undeclared variables are automaticaly assumed to be a `Species`. Any Python variables, functions and statement are available even in the `with` block."
   ]
  },
  {
   "cell_type": "code",
   "execution_count": 21,
   "metadata": {
    "collapsed": true
   },
   "outputs": [],
   "source": [
    "from math import log\n",
    "\n",
    "ka, kd, kf = 0.01, 0.3, 0.1\n",
    "tau = 10.0\n",
    "\n",
    "with reaction_rules():\n",
    "    E0 + S == ES | (ka, kd)\n",
    "\n",
    "    if tau > 0:\n",
    "        ES > E1 + P | kf\n",
    "        E1 > E0 | log(2) / tau\n",
    "    else:\n",
    "        ES > E0 + P | kf\n",
    "\n",
    "m1 = get_model()\n",
    "del ka, kd, kf, tau"
   ]
  },
  {
   "cell_type": "markdown",
   "metadata": {},
   "source": [
    "Meanwhile, once some variable is declared even outside the block, you can not use its name as a `Species` as follows:"
   ]
  },
  {
   "cell_type": "code",
   "execution_count": 22,
   "metadata": {
    "collapsed": false
   },
   "outputs": [
    {
     "name": "stdout",
     "output_type": "stream",
     "text": [
      "RuntimeError('invalid expression; \"10\" given',)\n"
     ]
    }
   ],
   "source": [
    "A = 10\n",
    "\n",
    "try:\n",
    "    with reaction_rules():\n",
    "        A + B == C | (0.01, 0.3)\n",
    "except Exception as e:\n",
    "    print(repr(e))\n",
    "\n",
    "del A"
   ]
  },
  {
   "cell_type": "markdown",
   "metadata": {},
   "source": [
    "where `A + B == C` exactly means `10 + B == C`.\n",
    "\n",
    "In the absence of left or right hand side of `ReactionRule` like synthesis or degradation, you may want to describe like:\n",
    "\n",
    "\n",
    "```python\n",
    "with reaction_rules():\n",
    "    A > | 1.0  # XXX: will raise SyntaxError\n",
    "    > A | 1.0  # XXX: will raise SyntaxError\n",
    "```\n",
    "\n",
    "However, they are not accepted because of `SyntaxError` on Python. To describe these cases, a special operator, tilde `~`, is available. `~` sets a stoichiometric coefficient of the following `Species` as zero, which means the `Species` is just ignored in the `ReactionRule`."
   ]
  },
  {
   "cell_type": "code",
   "execution_count": 23,
   "metadata": {
    "collapsed": false
   },
   "outputs": [
    {
     "name": "stdout",
     "output_type": "stream",
     "text": [
      "['>A|2', 'A>|1']\n"
     ]
    }
   ],
   "source": [
    "with reaction_rules():\n",
    "    ~A > A | 2.0  # equivalent to `create_synthesis_reaction_rule`\n",
    "    A > ~A | 1.0  # equivalent to `create_degradation_reaction_rule`\n",
    "\n",
    "m1 = get_model()\n",
    "print([rr.as_string() for rr in m1.reaction_rules()])"
   ]
  },
  {
   "cell_type": "markdown",
   "metadata": {},
   "source": [
    "The following `Species`' name is not necessarily needed to be the same as others. The model above describes $[A]'=2-[A]$:"
   ]
  },
  {
   "cell_type": "code",
   "execution_count": 24,
   "metadata": {
    "collapsed": false
   },
   "outputs": [
    {
     "data": {
      "image/png": "[encoded data removed]",
      "text/plain": [
       "<matplotlib.figure.Figure at 0x7f998141b1d0>"
      ]
     },
     "metadata": {},
     "output_type": "display_data"
    }
   ],
   "source": [
    "from math import exp\n",
    "run_simulation(10.0, model=m1, opt_args=['-', lambda t: 2.0 * (1 - exp(-t)), '--'])"
   ]
  },
  {
   "cell_type": "markdown",
   "metadata": {},
   "source": [
    "A chain of serial reactions can be described in one line. To split a line into two or more physical lines, wrap lines in a parenthesis:"
   ]
  },
  {
   "cell_type": "code",
   "execution_count": 25,
   "metadata": {
    "collapsed": false
   },
   "outputs": [
    {
     "name": "stdout",
     "output_type": "stream",
     "text": [
      "['E+S>ES|0.5', 'ES>E+S|1', 'ES>E+P|1.5']\n"
     ]
    }
   ],
   "source": [
    "with reaction_rules():\n",
    "    (E + S == ES | (0.5, 1.0)\n",
    "         > E + P | 1.5)\n",
    "\n",
    "m1 = get_model()\n",
    "print([rr.as_string() for rr in m1.reaction_rules()])"
   ]
  },
  {
   "cell_type": "markdown",
   "metadata": {},
   "source": [
    "The method uses global variables in `ecell4.util.decorator` (e.g. `REACTION_RULES`) to cache objects created in the `with` statement:"
   ]
  },
  {
   "cell_type": "code",
   "execution_count": 26,
   "metadata": {
    "collapsed": false
   },
   "outputs": [
    {
     "name": "stdout",
     "output_type": "stream",
     "text": [
      "[<ecell4.core.ReactionRule object at 0x7f99815accf0>, <ecell4.core.ReactionRule object at 0x7f99815ac1b0>]\n",
      "[]\n"
     ]
    }
   ],
   "source": [
    "import ecell4.util.decorator\n",
    "\n",
    "with reaction_rules():\n",
    "    A + B == C | (0.01, 0.3)\n",
    "\n",
    "print(ecell4.util.decorator.REACTION_RULES)  #XXX: Only for debugging\n",
    "get_model()\n",
    "print(ecell4.util.decorator.REACTION_RULES)  #XXX: Only for debugging"
   ]
  },
  {
   "cell_type": "markdown",
   "metadata": {},
   "source": [
    "For the modularity in building `Model`, decorator functions are also usefull. "
   ]
  },
  {
   "cell_type": "code",
   "execution_count": 27,
   "metadata": {
    "collapsed": false
   },
   "outputs": [
    {
     "name": "stdout",
     "output_type": "stream",
     "text": [
      "[<ecell4.core.Species object at 0x7f99815ac1b0>, <ecell4.core.Species object at 0x7f99815accf0>, <ecell4.core.Species object at 0x7f99815accc0>]\n",
      "[<ecell4.core.ReactionRule object at 0x7f99815ac0a8>, <ecell4.core.ReactionRule object at 0x7f99815acc30>]\n"
     ]
    }
   ],
   "source": [
    "@species_attributes\n",
    "def attrgen1(radius, D):\n",
    "    A | B | {'radius': str(radius), 'D': str(D)}\n",
    "    C | {'radius': str(radius * 2), 'D': str(D * 0.5)}\n",
    "\n",
    "@reaction_rules\n",
    "def rrgen1(kon, koff):\n",
    "    A + B == C | (kon, koff)\n",
    "\n",
    "attrs1 = attrgen1(0.005, 1)\n",
    "rrs1 = rrgen1(0.01, 0.3)\n",
    "print(attrs1)\n",
    "print(rrs1)"
   ]
  },
  {
   "cell_type": "markdown",
   "metadata": {},
   "source": [
    "Do **not** add parenthesis after decorators in contrast to the case of the `with` statement. The functions decorated by `reaction_rules` and `species_attributes` return a list of `ReactionRule`s and `Species` respectively. The list can be registered to `Model` at once by using `add_reaction_rules` and `add_species_attributes`. "
   ]
  },
  {
   "cell_type": "code",
   "execution_count": 28,
   "metadata": {
    "collapsed": false
   },
   "outputs": [
    {
     "name": "stdout",
     "output_type": "stream",
     "text": [
      "2\n"
     ]
    }
   ],
   "source": [
    "m1 = NetworkModel()\n",
    "m1.add_species_attributes(attrs1)\n",
    "m1.add_reaction_rules(rrs1)\n",
    "print(m1.num_reaction_rules())"
   ]
  },
  {
   "cell_type": "markdown",
   "metadata": {},
   "source": [
    "This method is modular and reusable relative to the way using `with` statement."
   ]
  }
 ],
 "metadata": {
  "kernelspec": {
   "display_name": "Python 3",
   "language": "python",
   "name": "python3"
  },
  "language_info": {
   "codemirror_mode": {
    "name": "ipython",
    "version": 3
   },
   "file_extension": ".py",
   "mimetype": "text/x-python",
   "name": "python",
   "nbconvert_exporter": "python",
   "pygments_lexer": "ipython3",
   "version": "3.4.3"
  },
  "widgets": {
   "state": {},
   "version": "1.1.2"
  }
 },
 "nbformat": 4,
 "nbformat_minor": 0
}
