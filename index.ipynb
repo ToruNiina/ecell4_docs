{
 "cells": [
  {
   "cell_type": "markdown",
   "metadata": {},
   "source": [
    "<div>\n",
    "<img src=\"https://raw.githubusercontent.com/ecell/ecell4/master/docs/images/ecell-logo-with-title.png\">\n",
    "</div>"
   ]
  },
  {
   "cell_type": "markdown",
   "metadata": {},
   "source": [
    "# Welcome to E-Cell4 in Jupyter Notebook!\n",
    "\n",
    "E-Cell System is, a software platform for modeling, simulation and analysis of complex, heterogeneous and multi-scale systems like the cell. E-Cell4 is a free and open-source software licensed under the GNU General Public License version 2. The source code is available on [GitHub](https://github.com/ecell/ecell4).\n"
   ]
  },
  {
   "cell_type": "markdown",
   "metadata": {},
   "source": [
    "\n",
    "## Tutorials\n",
    "\n",
    "Get started with E-Cell4 by going through the tutorial.\n",
    "\n",
    "1. [Brief Tour of E-Cell4 Simulations](Tutorials/1. Brief Tour of E-Cell4 Simulations.ipynb)\n",
    "1. [How to Build a Model](Tutorials/2. How to Build a Model.ipynb)\n",
    "1. [How to Setup the Initial Condition](Tutorials/3. How to Setup the Initial Condition.ipynb)\n",
    "1. [How to Run a Simulation](Tutorials/4. How to Run a Simulation.ipynb)\n",
    "1. [How to Log and Visualize Simulations](Tutorials/5. How to Log and Visualize Simulations.ipynb)\n",
    "1. [How to Solve ODEs with Rate Law Functions](Tutorials/6. How to Solve ODEs with Rate Law Functions.ipynb)\n",
    "1. [Introduction of Rule-based Modeling](Tutorials/7. Introduction of Rule-based Modeling.ipynb)\n",
    "1. [More about 1. Brief Tour of E-Cell4 Simulations](Tutorials/8. More about 1. Brief Tour of E-Cell4 Simulations.ipynb)\n",
    "1. [Spatial Gillespie Method](Tutorials/9. Spatial Gillespie Method.ipynb)\n",
    "1. [Spatiocyte Method](Tutorials/10. Spatiocyte Method.ipynb)"
   ]
  },
  {
   "cell_type": "markdown",
   "metadata": {},
   "source": [
    "## Examples\n",
    "\n",
    "Here is an extremely simple example with a reversible binding reaction:"
   ]
  },
  {
   "cell_type": "code",
   "execution_count": 1,
   "metadata": {
    "collapsed": false
   },
   "outputs": [
    {
     "data": {
      "image/png": "[encoded data removed]",
      "text/plain": [
       "<matplotlib.figure.Figure at 0x7f070020a7d0>"
      ]
     },
     "metadata": {},
     "output_type": "display_data"
    }
   ],
   "source": [
    "%matplotlib inline\n",
    "from ecell4 import *\n",
    "\n",
    "with reaction_rules():\n",
    "    A + B == C | (0.01, 0.3)\n",
    "\n",
    "y = run_simulation(10, {'A': 60, 'B': 60})"
   ]
  },
  {
   "cell_type": "markdown",
   "metadata": {},
   "source": [
    "More examples are available below:\n",
    "\n",
    "- [Attractors](Examples/Attractors.ipynb)\n",
    "- [Drosophila Circadian Clock](Examples/Drosophila Circadian Clock.ipynb)\n",
    "- [Dual Phosphorylation Cycle](Examples/Dual Phosphorylation Cycle.ipynb)\n",
    "- [Glycolysis of Human Erythrocytes](Examples/Glycolysis of Human Erythrocytes.ipynb)\n",
    "- [MinDE System with Mesoscopic Simulator](Examples/MinDE System with Mesoscopic Simulator.ipynb)\n",
    "- [MinDE System with Spatiocyte Simulator](Examples/MinDE System with Spatiocyte Simulator.ipynb)\n",
    "- [Simple Equilibrium](Examples/Simple Equilibrium.ipynb)"
   ]
  }
 ],
 "metadata": {
  "kernelspec": {
   "display_name": "Python 2",
   "language": "python",
   "name": "python2"
  },
  "language_info": {
   "codemirror_mode": {
    "name": "ipython",
    "version": 2
   },
   "file_extension": ".py",
   "mimetype": "text/x-python",
   "name": "python",
   "nbconvert_exporter": "python",
   "pygments_lexer": "ipython2",
   "version": "2.7.10"
  }
 },
 "nbformat": 4,
 "nbformat_minor": 0
}
