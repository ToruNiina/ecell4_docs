{
 "cells": [
  {
   "cell_type": "markdown",
   "metadata": {},
   "source": [
    "<div>\n",
    "<img src=\"https://raw.githubusercontent.com/ecell/ecell4/master/readthedocs/images/ecell-logo-with-title.png\">\n",
    "</div>"
   ]
  },
  {
   "cell_type": "markdown",
   "metadata": {},
   "source": [
    "# Welcome to E-Cell4 in Jupyter Notebook!\n",
    "\n",
    "E-Cell System is, a software platform for modeling, simulation and analysis of complex, heterogeneous and multi-scale systems like the cell. E-Cell4 is a free and open-source software licensed under the GNU General Public License version 2. The source code is available on [GitHub](https://github.com/ecell/ecell4).\n"
   ]
  },
  {
   "cell_type": "markdown",
   "metadata": {},
   "source": [
    "## Tutorials\n",
    "\n",
    "1. Brief Tour of E-Cell4 Simulations [local ipynb](tutorial1.ipynb) [readthedocs](http://ecell4.readthedocs.io/en/latest/tutorials/tutorial1.html)\n",
    " * Quick Demo\n",
    " * Spatial Simulation and Visualization\n",
    "2. How to Build a Model [local ipynb](tutorial2.ipynb) [readthedocs](http://ecell4.readthedocs.io/en/latest/tutorials/tutorial2.html)\n",
    " * Species\n",
    " * ReactionRule\n",
    " * NetworkModel\n",
    " * Python Utilities to Build a Model\n",
    "3. How to Setup the Initial Condition [local ipynb](tutorial3.ipynb) [readthedocs](http://ecell4.readthedocs.io/en/latest/tutorials/tutorial3.html)\n",
    " * Common APIs of World\n",
    " * How to Get Positions of Molecules\n",
    " * Lattice-based Coordinate\n",
    " * Structure\n",
    " * Random Number Generator\n",
    "4. How to Run a Simulation [local ipynb](tutorial4.ipynb) [readthedocs](http://ecell4.readthedocs.io/en/latest/tutorials/tutorial4.html)\n",
    " * How to Setup a Simulator\n",
    " * Running Simulation\n",
    " * Capsulizing Algorithm into a Factory Class\n",
    "5. How to Log and Visualize Simulations [local ipynb](movie/tutorial5.ipynb) [readthedocs](http://ecell4.readthedocs.io/en/latest/tutorials/tutorial5.html)\n",
    " * Logging Simulations with Observers\n",
    " * Visualization of Data Logged\n",
    "6. How to Solve ODEs with Rate Law Functions [local ipynb](tutorial6.ipynb) [readthedocs](http://ecell4.readthedocs.io/en/latest/tutorials/tutorial6.html)\n",
    " * ode.ODEReactionRule\n",
    " * ode.ODERatelaw\n",
    " * ode.ODENetworkModel\n",
    " * References in a Rate Law\n",
    " * More about ode\n",
    "7. Introduction of Rule-based Modeling [local ipynb](tutorial7.ipynb) [readthedocs](http://ecell4.readthedocs.io/en/latest/tutorials/tutorial7.html)\n",
    " * Species.count\n",
    " * ReactionRule.count and generate\n",
    " * NetfreeModel\n",
    " * Differences between Species, ReactionRule and NetfreeModel\n",
    "8. More about 1. Brief Tour of E-Cell4 Simulations [local ipynb](tutorial8.ipynb) [readthedocs](http://ecell4.readthedocs.io/en/latest/tutorials/tutorial8.html)\n",
    " * Creating ODEWorld\n",
    " * How to Use Real3\n",
    " * Creating and Running ODESimulator\n",
    " * Switching the Solver\n",
    "9. Spatial Gillespie Method [local ipynb](tutorial9.ipynb) [readthedocs](http://ecell4.readthedocs.io/en/latest/tutorials/tutorial9.html)\n",
    " * Spaces in E-Cell4\n",
    " * Spatial Gillespie Method\n",
    " * Defining Molecular Diffusion Coefficient\n",
    " * Molecular localization\n",
    " * Molecular initial location and the reaction\n",
    "10. Spatiocyte Simulations at Single-Molecule Resolution [local ipynb](tutorial10.ipynb) [readthedocs](http://ecell4.readthedocs.io/en/latest/tutorials/tutorial10.html)\n",
    " * Spatiocyte Lattice-based Method\n",
    " * The Diffusion Movement of Single Molecule\n",
    " * The Diffusion Coefficient and the Second-order Reaction\n",
    " * The Structure in the Spatiocyte Method\n",
    " * The structure and the reaction"
   ]
  },
  {
   "cell_type": "markdown",
   "metadata": {},
   "source": [
    "## Examples\n",
    "\n",
    "Here is an extremely simple example with a reversible binding reaction:"
   ]
  },
  {
   "cell_type": "code",
   "execution_count": 1,
   "metadata": {
    "collapsed": false
   },
   "outputs": [
    {
     "data": {
      "image/png": "[encoded data removed]",
      "text/plain": [
       "<matplotlib.figure.Figure at 0x2e21dc48748>"
      ]
     },
     "metadata": {},
     "output_type": "display_data"
    }
   ],
   "source": [
    "%matplotlib inline\n",
    "from ecell4 import *\n",
    "\n",
    "with reaction_rules():\n",
    "    A + B == C | (0.01, 0.3)\n",
    "\n",
    "y = run_simulation(10, {'A': 60, 'B': 60})"
   ]
  },
  {
   "cell_type": "markdown",
   "metadata": {},
   "source": [
    "More examples are available below:\n",
    "\n",
    "* Attractors [local ipynb](example1.ipynb) [readthedocs](http://ecell4.readthedocs.io/en/latest/examples/example1.html)\n",
    " * Rössler attractor\n",
    " * Modified Chua chaotic attractor\n",
    " * Lorenz system\n",
    " * Tamari attractor\n",
    " * Moore-Spiegel attractor\n",
    "* Drosophila Circadian Clock [local ipynb](example2.ipynb) [readthedocs](http://ecell4.readthedocs.io/en/latest/examples/example2.html)\n",
    "* Dual Phosphorylation Cycle [local ipynb](example3.ipynb) [readthedocs](http://ecell4.readthedocs.io/en/latest/examples/example3.html)\n",
    "* Simple EGFR model [local ipynb](example4.ipynb) [readthedocs](http://ecell4.readthedocs.io/en/latest/examples/example4.html)\n",
    "* A Simple Model of the Glycolysis of Human Erythrocytes [local ipynb](example5.ipynb) [readthedocs](http://ecell4.readthedocs.io/en/latest/examples/example5.html)\n",
    "* Hodgkin-Huxley Model, FitzHugh–Nagumo Model [local ipynb](example6.ipynb) [readthedocs](http://ecell4.readthedocs.io/en/latest/examples/example6.html)\n",
    "* Lotka-Volterra 2D [local ipynb](movie/example7.ipynb) [readthedocs](http://ecell4.readthedocs.io/en/latest/examples/example7.html)\n",
    " * The Original Model in Ordinary Differential Equations\n",
    " * The Modified Model Decomposed into Elementary Reactions\n",
    " * A Lotka-Volterra-like Model in 2D\n",
    "* MinDE System with Mesoscopic Simulator [local ipynb](time-consuming/example8.ipynb) [readthedocs](http://ecell4.readthedocs.io/en/latest/examples/example8.html)\n",
    "* MinDE System with Spatiocyte Simulator [local ipynb](time-consuming/example9.ipynb) [readthedocs](http://ecell4.readthedocs.io/en/latest/examples/example9.html)\n",
    "* Simple Equilibrium [local ipynb](example10.ipynb) [readthedocs](http://ecell4.readthedocs.io/en/latest/examples/example10.html)\n",
    "* Tyson1991 [local ipynb](example11.ipynb) [readthedocs](http://ecell4.readthedocs.io/en/latest/examples/example11.html)\n"
   ]
  }
 ],
 "metadata": {
  "anaconda-cloud": {},
  "kernelspec": {
   "display_name": "Python [default]",
   "language": "python",
   "name": "python3"
  },
  "language_info": {
   "codemirror_mode": {
    "name": "ipython",
    "version": 3
   },
   "file_extension": ".py",
   "mimetype": "text/x-python",
   "name": "python",
   "nbconvert_exporter": "python",
   "pygments_lexer": "ipython3",
   "version": "3.5.2"
  }
 },
 "nbformat": 4,
 "nbformat_minor": 0
}
