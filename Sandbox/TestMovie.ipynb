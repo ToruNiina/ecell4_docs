{
 "cells": [
  {
   "cell_type": "code",
   "execution_count": 1,
   "metadata": {
    "collapsed": false
   },
   "outputs": [],
   "source": [
    "%matplotlib inline\n",
    "from ecell4 import *"
   ]
  },
  {
   "cell_type": "code",
   "execution_count": 2,
   "metadata": {
    "collapsed": false
   },
   "outputs": [],
   "source": [
    "with species_attributes():\n",
    "    A | B | C | {\"D\": \"1\", \"radius\": \"0.005\"}\n",
    "\n",
    "with reaction_rules():\n",
    "    A + B == C | (0.01, 0.3)\n",
    "\n",
    "m = get_model()"
   ]
  },
  {
   "cell_type": "code",
   "execution_count": 3,
   "metadata": {
    "collapsed": false
   },
   "outputs": [],
   "source": [
    "# factory = egfrd.EGFRDFactory(Integer3(4, 4, 4))\n",
    "factory = spatiocyte.SpatiocyteFactory(0.005)"
   ]
  },
  {
   "cell_type": "code",
   "execution_count": 4,
   "metadata": {
    "collapsed": false
   },
   "outputs": [],
   "source": [
    "w = factory.create_world(Real3(1, 1, 1))\n",
    "w.bind_to(m)"
   ]
  },
  {
   "cell_type": "code",
   "execution_count": 5,
   "metadata": {
    "collapsed": false
   },
   "outputs": [],
   "source": [
    "w.add_molecules(Species(\"A\"), 60, AABB(Real3(0, 0, 0), Real3(0.5, 1, 1)))\n",
    "w.add_molecules(Species(\"B\"), 60, AABB(Real3(0.5, 0, 0), Real3(1, 1, 1)))"
   ]
  },
  {
   "cell_type": "code",
   "execution_count": 6,
   "metadata": {
    "collapsed": false
   },
   "outputs": [],
   "source": [
    "sim = factory.create_simulator(w)\n",
    "obs1 = NumberObserver((\"A\", \"C\"))\n",
    "# sim.run(1.0, obs1)\n",
    "obs2 = FixedIntervalHDF5Observer(0.02, \"test%03d.h5\")\n",
    "sim.run(1.0, [obs1, obs2])"
   ]
  },
  {
   "cell_type": "code",
   "execution_count": 7,
   "metadata": {
    "collapsed": false
   },
   "outputs": [],
   "source": [
    "# viz.plot_movie([factory.create_world(\"test%03d.h5\" % _) for _ in xrange(51)], radius=0.005, grid=False, species_list=(\"A\", \"B\", \"C\"))"
   ]
  },
  {
   "cell_type": "code",
   "execution_count": 8,
   "metadata": {
    "collapsed": false
   },
   "outputs": [
    {
     "data": {
      "image/png": "[encoded data removed]",
      "text/plain": [
       "<matplotlib.figure.Figure at 0x7f2ff6e45910>"
      ]
     },
     "metadata": {},
     "output_type": "display_data"
    }
   ],
   "source": [
    "viz.plot_number_observer(obs1, 'o-', markeredgewidth=0)"
   ]
  },
  {
   "cell_type": "code",
   "execution_count": null,
   "metadata": {
    "collapsed": true
   },
   "outputs": [],
   "source": []
  }
 ],
 "metadata": {
  "kernelspec": {
   "display_name": "Python 2",
   "language": "python",
   "name": "python2"
  },
  "language_info": {
   "codemirror_mode": {
    "name": "ipython",
    "version": 2
   },
   "file_extension": ".py",
   "mimetype": "text/x-python",
   "name": "python",
   "nbconvert_exporter": "python",
   "pygments_lexer": "ipython2",
   "version": "2.7.6"
  }
 },
 "nbformat": 4,
 "nbformat_minor": 0
}
