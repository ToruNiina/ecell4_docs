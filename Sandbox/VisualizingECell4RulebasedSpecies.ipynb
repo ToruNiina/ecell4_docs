{
 "cells": [
  {
   "cell_type": "code",
   "execution_count": 1,
   "metadata": {
    "collapsed": false
   },
   "outputs": [],
   "source": [
    "from ecell4.util import cyjs"
   ]
  },
  {
   "cell_type": "code",
   "execution_count": 2,
   "metadata": {
    "collapsed": false
   },
   "outputs": [],
   "source": [
    "from ecell4.core import *"
   ]
  },
  {
   "cell_type": "code",
   "execution_count": 3,
   "metadata": {
    "collapsed": false
   },
   "outputs": [],
   "source": [
    "egf = Species(\"EGF(R)\")"
   ]
  },
  {
   "cell_type": "code",
   "execution_count": 4,
   "metadata": {
    "collapsed": false
   },
   "outputs": [],
   "source": [
    "egfr = Species(\"EGFR(L,CR1,Y1068=P)\")"
   ]
  },
  {
   "cell_type": "code",
   "execution_count": 5,
   "metadata": {
    "collapsed": false
   },
   "outputs": [],
   "source": [
    "comp1 = Species(\"EGFR(L^1,CR1).EGF(R^1)\")"
   ]
  },
  {
   "cell_type": "code",
   "execution_count": 6,
   "metadata": {
    "collapsed": false
   },
   "outputs": [],
   "source": [
    "comp2 = Species(\"EGFR(Y1068=P^1).Grb2(SH2^1)\")"
   ]
  },
  {
   "cell_type": "code",
   "execution_count": 7,
   "metadata": {
    "collapsed": false
   },
   "outputs": [
    {
     "data": {
      "text/html": [
       "<script>\n",
       "if(window['cytoscape'] === undefined){\n",
       "    var paths = {\n",
       "\tcytoscape: 'http://cdnjs.cloudflare.com/ajax/libs/cytoscape/2.2.10/cytoscape'\n",
       "    };\n",
       "\n",
       "    console.log('Begin loading all JavaScript libs...');\n",
       "    require.config({paths: paths});\n",
       "\n",
       "    require(['cytoscape'], function(cytoscape){\n",
       "\twindow['cytoscape'] = cytoscape;\n",
       "\tconsole.log('Finished loading jQuery and Cytoscape.js.');\n",
       "\n",
       "\tvar event = document.createEvent(\"HTMLEvents\");\n",
       "\tevent.initEvent(\"load_cytoscape\", true, false);\n",
       "\twindow.dispatchEvent(event);\n",
       "    });\n",
       "}\n",
       "</script>\n"
      ],
      "text/plain": [
       "<IPython.core.display.HTML object>"
      ]
     },
     "metadata": {},
     "output_type": "display_data"
    }
   ],
   "source": [
    "cyjs.init_cyjs()"
   ]
  },
  {
   "cell_type": "code",
   "execution_count": 8,
   "metadata": {
    "collapsed": false
   },
   "outputs": [
    {
     "data": {
      "text/html": [
       "<!DOCTYPE html>\n",
       "<html>\n",
       "<head>\n",
       "<meta charset=utf-8 />\n",
       "<title>Animated BFS</title>\n",
       "<style type=\"text/css\">\n",
       "body {\n",
       "  font: 14px helvetica neue, helvetica, arial, sans-serif;\n",
       "}\n",
       "\n",
       "#cye3b67585-ce9d-4d0a-be14-febe4de21a09 {\n",
       "  height: 500px;\n",
       "  width: 500px;\n",
       "  position: absolute;\n",
       "  left: 0;\n",
       "  top: 0;\n",
       "}\n",
       "</style>\n",
       "\n",
       "<script>\n",
       "(function(){\n",
       "\n",
       "function render(){\n",
       "$('#cye3b67585-ce9d-4d0a-be14-febe4de21a09').cytoscape({\n",
       "  style: cytoscape.stylesheet()\n",
       "    .selector('node')\n",
       "      .css({\n",
       "        'shape': 'data(faveShape)',\n",
       "        'background-color': 'data(faveColor)',\n",
       "        'content': 'data(name)'\n",
       "      })\n",
       "    .selector('edge')\n",
       "      .css({\n",
       "        'target-arrow-shape': 'triangle',\n",
       "        'width': 4,\n",
       "        'line-color': '#ddd',\n",
       "        'target-arrow-color': '#ddd'\n",
       "      })\n",
       "    .selector('.highlighted')\n",
       "      .css({\n",
       "        'background-color': '#61bffc',\n",
       "        'line-color': '#61bffc',\n",
       "        'target-arrow-color': '#61bffc',\n",
       "        'transition-property': 'background-color, line-color, target-arrow-color',\n",
       "        'transition-duration': '0.5s'\n",
       "      }),\n",
       "\n",
       "  elements: {\n",
       "      nodes: [{\"data\": {\"id\": \"EGF\", \"name\": \"EGF\"}}, {\"data\": {\"id\": \"R_EGF\", \"parent\": \"EGF\", \"name\": \"R\"}}],\n",
       "\n",
       "      edges: []\n",
       "    },\n",
       "\n",
       "  layout: {\n",
       "    name: 'breadthfirst',\n",
       "    directed: true,\n",
       "    roots: '#a',\n",
       "    padding: 10\n",
       "  },\n",
       "\n",
       "  ready: function(){\n",
       "    window.cy = this;\n",
       "\n",
       "    var bfs = cy.elements().bfs('#a', function(){}, true);\n",
       "\n",
       "    var i = 0;\n",
       "    var highlightNextEle = function(){\n",
       "      bfs.path[i].addClass('highlighted');\n",
       "\n",
       "      if( i < bfs.path.length ){\n",
       "        i++;\n",
       "        setTimeout(highlightNextEle, 1000);\n",
       "      }\n",
       "    };\n",
       "\n",
       "    // kick off first highlight\n",
       "    highlightNextEle();\n",
       "  }\n",
       "});\n",
       "};\n",
       "\n",
       "var before_render = function(){\n",
       "    if(window['cytoscape'] === undefined){\n",
       "         console.log(\"wait!\");\n",
       "\t window.addEventListener(\"load_cytoscape\", before_render);\n",
       "    }else{\n",
       "\t console.log(\"begin rendering!\");\n",
       "\t render();\n",
       "    }\n",
       "}\n",
       "\n",
       "before_render();\n",
       "\n",
       "})();\n",
       "</script>\n",
       "</head>\n",
       "<body>\n",
       "  <div id=\"cye3b67585-ce9d-4d0a-be14-febe4de21a09\"></div>\n",
       "  <!-- When only #uuid div is placed on this page, the height of output-box on ipynb will be 0px. One line below will prevent that. -->\n",
       "  <div id=\"dammy\" style=\"width:700px;height:500px\">\n",
       "</body>\n",
       "</html>"
      ],
      "text/plain": [
       "<IPython.core.display.HTML object>"
      ]
     },
     "metadata": {},
     "output_type": "display_data"
    }
   ],
   "source": [
    "cyjs.plot_species(egf)"
   ]
  },
  {
   "cell_type": "code",
   "execution_count": 9,
   "metadata": {
    "collapsed": false
   },
   "outputs": [
    {
     "data": {
      "text/html": [
       "<!DOCTYPE html>\n",
       "<html>\n",
       "<head>\n",
       "<meta charset=utf-8 />\n",
       "<title>Animated BFS</title>\n",
       "<style type=\"text/css\">\n",
       "body {\n",
       "  font: 14px helvetica neue, helvetica, arial, sans-serif;\n",
       "}\n",
       "\n",
       "#cy9a287a28-46bf-4cc5-925f-7ff1601f840a {\n",
       "  height: 500px;\n",
       "  width: 500px;\n",
       "  position: absolute;\n",
       "  left: 0;\n",
       "  top: 0;\n",
       "}\n",
       "</style>\n",
       "\n",
       "<script>\n",
       "(function(){\n",
       "\n",
       "function render(){\n",
       "$('#cy9a287a28-46bf-4cc5-925f-7ff1601f840a').cytoscape({\n",
       "  style: cytoscape.stylesheet()\n",
       "    .selector('node')\n",
       "      .css({\n",
       "        'shape': 'data(faveShape)',\n",
       "        'background-color': 'data(faveColor)',\n",
       "        'content': 'data(name)'\n",
       "      })\n",
       "    .selector('edge')\n",
       "      .css({\n",
       "        'target-arrow-shape': 'triangle',\n",
       "        'width': 4,\n",
       "        'line-color': '#ddd',\n",
       "        'target-arrow-color': '#ddd'\n",
       "      })\n",
       "    .selector('.highlighted')\n",
       "      .css({\n",
       "        'background-color': '#61bffc',\n",
       "        'line-color': '#61bffc',\n",
       "        'target-arrow-color': '#61bffc',\n",
       "        'transition-property': 'background-color, line-color, target-arrow-color',\n",
       "        'transition-duration': '0.5s'\n",
       "      }),\n",
       "\n",
       "  elements: {\n",
       "      nodes: [{\"data\": {\"id\": \"EGFR\", \"name\": \"EGFR\"}}, {\"data\": {\"id\": \"CR1_EGFR\", \"parent\": \"EGFR\", \"name\": \"CR1\"}}, {\"data\": {\"id\": \"L_EGFR\", \"parent\": \"EGFR\", \"name\": \"L\"}}, {\"data\": {\"faveShape\": \"rectangle\", \"faveColor\": \"#FF0000\", \"id\": \"Y1068=P_EGFR\", \"parent\": \"EGFR\", \"name\": \"Y1068\"}}],\n",
       "\n",
       "      edges: []\n",
       "    },\n",
       "\n",
       "  layout: {\n",
       "    name: 'breadthfirst',\n",
       "    directed: true,\n",
       "    roots: '#a',\n",
       "    padding: 10\n",
       "  },\n",
       "\n",
       "  ready: function(){\n",
       "    window.cy = this;\n",
       "\n",
       "    var bfs = cy.elements().bfs('#a', function(){}, true);\n",
       "\n",
       "    var i = 0;\n",
       "    var highlightNextEle = function(){\n",
       "      bfs.path[i].addClass('highlighted');\n",
       "\n",
       "      if( i < bfs.path.length ){\n",
       "        i++;\n",
       "        setTimeout(highlightNextEle, 1000);\n",
       "      }\n",
       "    };\n",
       "\n",
       "    // kick off first highlight\n",
       "    highlightNextEle();\n",
       "  }\n",
       "});\n",
       "};\n",
       "\n",
       "var before_render = function(){\n",
       "    if(window['cytoscape'] === undefined){\n",
       "         console.log(\"wait!\");\n",
       "\t window.addEventListener(\"load_cytoscape\", before_render);\n",
       "    }else{\n",
       "\t console.log(\"begin rendering!\");\n",
       "\t render();\n",
       "    }\n",
       "}\n",
       "\n",
       "before_render();\n",
       "\n",
       "})();\n",
       "</script>\n",
       "</head>\n",
       "<body>\n",
       "  <div id=\"cy9a287a28-46bf-4cc5-925f-7ff1601f840a\"></div>\n",
       "  <!-- When only #uuid div is placed on this page, the height of output-box on ipynb will be 0px. One line below will prevent that. -->\n",
       "  <div id=\"dammy\" style=\"width:700px;height:500px\">\n",
       "</body>\n",
       "</html>"
      ],
      "text/plain": [
       "<IPython.core.display.HTML object>"
      ]
     },
     "metadata": {},
     "output_type": "display_data"
    }
   ],
   "source": [
    "cyjs.plot_species(egfr)"
   ]
  },
  {
   "cell_type": "code",
   "execution_count": 10,
   "metadata": {
    "collapsed": false
   },
   "outputs": [
    {
     "data": {
      "text/html": [
       "<!DOCTYPE html>\n",
       "<html>\n",
       "<head>\n",
       "<meta charset=utf-8 />\n",
       "<title>Animated BFS</title>\n",
       "<style type=\"text/css\">\n",
       "body {\n",
       "  font: 14px helvetica neue, helvetica, arial, sans-serif;\n",
       "}\n",
       "\n",
       "#cyc92f5f7c-f8a2-4c8a-afa1-7ef6ff289df5 {\n",
       "  height: 500px;\n",
       "  width: 500px;\n",
       "  position: absolute;\n",
       "  left: 0;\n",
       "  top: 0;\n",
       "}\n",
       "</style>\n",
       "\n",
       "<script>\n",
       "(function(){\n",
       "\n",
       "function render(){\n",
       "$('#cyc92f5f7c-f8a2-4c8a-afa1-7ef6ff289df5').cytoscape({\n",
       "  style: cytoscape.stylesheet()\n",
       "    .selector('node')\n",
       "      .css({\n",
       "        'shape': 'data(faveShape)',\n",
       "        'background-color': 'data(faveColor)',\n",
       "        'content': 'data(name)'\n",
       "      })\n",
       "    .selector('edge')\n",
       "      .css({\n",
       "        'target-arrow-shape': 'triangle',\n",
       "        'width': 4,\n",
       "        'line-color': '#ddd',\n",
       "        'target-arrow-color': '#ddd'\n",
       "      })\n",
       "    .selector('.highlighted')\n",
       "      .css({\n",
       "        'background-color': '#61bffc',\n",
       "        'line-color': '#61bffc',\n",
       "        'target-arrow-color': '#61bffc',\n",
       "        'transition-property': 'background-color, line-color, target-arrow-color',\n",
       "        'transition-duration': '0.5s'\n",
       "      }),\n",
       "\n",
       "  elements: {\n",
       "      nodes: [{\"data\": {\"id\": \"EGFR\", \"name\": \"EGFR\"}}, {\"data\": {\"id\": \"CR1_EGFR\", \"parent\": \"EGFR\", \"name\": \"CR1\"}}, {\"data\": {\"id\": \"L^1_EGFR\", \"parent\": \"EGFR\", \"name\": \"L\"}}, {\"data\": {\"id\": \"EGF\", \"name\": \"EGF\"}}, {\"data\": {\"id\": \"R^1_EGF\", \"parent\": \"EGF\", \"name\": \"R\"}}],\n",
       "\n",
       "      edges: [{\"data\": {\"source\": \"L^1_EGFR\", \"id\": \"^1\", \"target\": \"R^1_EGF\"}}]\n",
       "    },\n",
       "\n",
       "  layout: {\n",
       "    name: 'breadthfirst',\n",
       "    directed: true,\n",
       "    roots: '#a',\n",
       "    padding: 10\n",
       "  },\n",
       "\n",
       "  ready: function(){\n",
       "    window.cy = this;\n",
       "\n",
       "    var bfs = cy.elements().bfs('#a', function(){}, true);\n",
       "\n",
       "    var i = 0;\n",
       "    var highlightNextEle = function(){\n",
       "      bfs.path[i].addClass('highlighted');\n",
       "\n",
       "      if( i < bfs.path.length ){\n",
       "        i++;\n",
       "        setTimeout(highlightNextEle, 1000);\n",
       "      }\n",
       "    };\n",
       "\n",
       "    // kick off first highlight\n",
       "    highlightNextEle();\n",
       "  }\n",
       "});\n",
       "};\n",
       "\n",
       "var before_render = function(){\n",
       "    if(window['cytoscape'] === undefined){\n",
       "         console.log(\"wait!\");\n",
       "\t window.addEventListener(\"load_cytoscape\", before_render);\n",
       "    }else{\n",
       "\t console.log(\"begin rendering!\");\n",
       "\t render();\n",
       "    }\n",
       "}\n",
       "\n",
       "before_render();\n",
       "\n",
       "})();\n",
       "</script>\n",
       "</head>\n",
       "<body>\n",
       "  <div id=\"cyc92f5f7c-f8a2-4c8a-afa1-7ef6ff289df5\"></div>\n",
       "  <!-- When only #uuid div is placed on this page, the height of output-box on ipynb will be 0px. One line below will prevent that. -->\n",
       "  <div id=\"dammy\" style=\"width:700px;height:500px\">\n",
       "</body>\n",
       "</html>"
      ],
      "text/plain": [
       "<IPython.core.display.HTML object>"
      ]
     },
     "metadata": {},
     "output_type": "display_data"
    }
   ],
   "source": [
    "cyjs.plot_species(comp1)"
   ]
  },
  {
   "cell_type": "code",
   "execution_count": 11,
   "metadata": {
    "collapsed": false
   },
   "outputs": [
    {
     "data": {
      "text/html": [
       "<!DOCTYPE html>\n",
       "<html>\n",
       "<head>\n",
       "<meta charset=utf-8 />\n",
       "<title>Animated BFS</title>\n",
       "<style type=\"text/css\">\n",
       "body {\n",
       "  font: 14px helvetica neue, helvetica, arial, sans-serif;\n",
       "}\n",
       "\n",
       "#cy72b8af70-9893-4a44-837b-239efd4bdfdf {\n",
       "  height: 500px;\n",
       "  width: 500px;\n",
       "  position: absolute;\n",
       "  left: 0;\n",
       "  top: 0;\n",
       "}\n",
       "</style>\n",
       "\n",
       "<script>\n",
       "(function(){\n",
       "\n",
       "function render(){\n",
       "$('#cy72b8af70-9893-4a44-837b-239efd4bdfdf').cytoscape({\n",
       "  style: cytoscape.stylesheet()\n",
       "    .selector('node')\n",
       "      .css({\n",
       "        'shape': 'data(faveShape)',\n",
       "        'background-color': 'data(faveColor)',\n",
       "        'content': 'data(name)'\n",
       "      })\n",
       "    .selector('edge')\n",
       "      .css({\n",
       "        'target-arrow-shape': 'triangle',\n",
       "        'width': 4,\n",
       "        'line-color': '#ddd',\n",
       "        'target-arrow-color': '#ddd'\n",
       "      })\n",
       "    .selector('.highlighted')\n",
       "      .css({\n",
       "        'background-color': '#61bffc',\n",
       "        'line-color': '#61bffc',\n",
       "        'target-arrow-color': '#61bffc',\n",
       "        'transition-property': 'background-color, line-color, target-arrow-color',\n",
       "        'transition-duration': '0.5s'\n",
       "      }),\n",
       "\n",
       "  elements: {\n",
       "      nodes: [{\"data\": {\"id\": \"EGFR\", \"name\": \"EGFR\"}}, {\"data\": {\"faveShape\": \"rectangle\", \"faveColor\": \"#FF0000\", \"id\": \"Y1068=P^1_EGFR\", \"parent\": \"EGFR\", \"name\": \"Y1068\"}}, {\"data\": {\"id\": \"Grb2\", \"name\": \"Grb2\"}}, {\"data\": {\"id\": \"SH2^1_Grb2\", \"parent\": \"Grb2\", \"name\": \"SH2\"}}],\n",
       "\n",
       "      edges: [{\"data\": {\"source\": \"Y1068=P^1_EGFR\", \"id\": \"^1\", \"target\": \"SH2^1_Grb2\"}}]\n",
       "    },\n",
       "\n",
       "  layout: {\n",
       "    name: 'breadthfirst',\n",
       "    directed: true,\n",
       "    roots: '#a',\n",
       "    padding: 10\n",
       "  },\n",
       "\n",
       "  ready: function(){\n",
       "    window.cy = this;\n",
       "\n",
       "    var bfs = cy.elements().bfs('#a', function(){}, true);\n",
       "\n",
       "    var i = 0;\n",
       "    var highlightNextEle = function(){\n",
       "      bfs.path[i].addClass('highlighted');\n",
       "\n",
       "      if( i < bfs.path.length ){\n",
       "        i++;\n",
       "        setTimeout(highlightNextEle, 1000);\n",
       "      }\n",
       "    };\n",
       "\n",
       "    // kick off first highlight\n",
       "    highlightNextEle();\n",
       "  }\n",
       "});\n",
       "};\n",
       "\n",
       "var before_render = function(){\n",
       "    if(window['cytoscape'] === undefined){\n",
       "         console.log(\"wait!\");\n",
       "\t window.addEventListener(\"load_cytoscape\", before_render);\n",
       "    }else{\n",
       "\t console.log(\"begin rendering!\");\n",
       "\t render();\n",
       "    }\n",
       "}\n",
       "\n",
       "before_render();\n",
       "\n",
       "})();\n",
       "</script>\n",
       "</head>\n",
       "<body>\n",
       "  <div id=\"cy72b8af70-9893-4a44-837b-239efd4bdfdf\"></div>\n",
       "  <!-- When only #uuid div is placed on this page, the height of output-box on ipynb will be 0px. One line below will prevent that. -->\n",
       "  <div id=\"dammy\" style=\"width:700px;height:500px\">\n",
       "</body>\n",
       "</html>"
      ],
      "text/plain": [
       "<IPython.core.display.HTML object>"
      ]
     },
     "metadata": {},
     "output_type": "display_data"
    }
   ],
   "source": [
    "cyjs.plot_species(comp2)"
   ]
  }
 ],
 "metadata": {
  "kernelspec": {
   "display_name": "Python 2",
   "language": "python",
   "name": "python2"
  },
  "language_info": {
   "codemirror_mode": {
    "name": "ipython",
    "version": 2
   },
   "file_extension": ".py",
   "mimetype": "text/x-python",
   "name": "python",
   "nbconvert_exporter": "python",
   "pygments_lexer": "ipython2",
   "version": "2.7.6"
  }
 },
 "nbformat": 4,
 "nbformat_minor": 0
}
