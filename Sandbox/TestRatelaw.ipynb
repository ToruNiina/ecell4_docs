{
 "cells": [
  {
   "cell_type": "code",
   "execution_count": 1,
   "metadata": {
    "collapsed": false
   },
   "outputs": [],
   "source": [
    "%matplotlib inline\n",
    "from ecell4 import *"
   ]
  },
  {
   "cell_type": "code",
   "execution_count": 2,
   "metadata": {
    "collapsed": false
   },
   "outputs": [],
   "source": [
    "def func(reactants, products, volume, t, rr):\n",
    "    k = 1.0\n",
    "    retval = k * volume\n",
    "    for num in reactants:\n",
    "        retval *= num / volume\n",
    "    return retval"
   ]
  },
  {
   "cell_type": "code",
   "execution_count": 3,
   "metadata": {
    "collapsed": false
   },
   "outputs": [],
   "source": [
    "sp1, sp2, sp3 = Species(\"A\"), Species(\"B\"), Species(\"C\")\n",
    "rr1 = create_unbinding_reaction_rule(sp1, sp2, sp3, 1.0)"
   ]
  },
  {
   "cell_type": "code",
   "execution_count": 4,
   "metadata": {
    "collapsed": true
   },
   "outputs": [],
   "source": [
    "rr2 = ode.ODEReactionRule(rr1)\n",
    "rr2.set_ratelaw(ode.ODERatelawCallback(func))\n",
    "# rr2.set_ratelaw(ode.ODERatelawMassAction(1.0))"
   ]
  },
  {
   "cell_type": "code",
   "execution_count": 5,
   "metadata": {
    "collapsed": false
   },
   "outputs": [],
   "source": [
    "m1 = NetworkModel()\n",
    "m1.add_reaction_rule(rr1)\n",
    "\n",
    "m2 = ode.ODENetworkModel()\n",
    "m2.add_reaction_rule(rr2)"
   ]
  },
  {
   "cell_type": "code",
   "execution_count": 6,
   "metadata": {
    "collapsed": false
   },
   "outputs": [],
   "source": [
    "obs1 = run_simulation(10.0, model=m1, y0={\"A\": 60}, return_type=\"observer\")\n",
    "obs2 = run_simulation(range(11), model=m2, y0={\"A\": 60}, return_type=\"observer\")"
   ]
  },
  {
   "cell_type": "code",
   "execution_count": 7,
   "metadata": {
    "collapsed": false
   },
   "outputs": [
    {
     "data": {
      "image/png": "[encoded data removed]",
      "text/plain": [
       "<matplotlib.figure.Figure at 0x7f3ebb2869d0>"
      ]
     },
     "metadata": {},
     "output_type": "display_data"
    }
   ],
   "source": [
    "viz.plot_number_observer(obs1, \"-\", obs2, \"o\")"
   ]
  },
  {
   "cell_type": "code",
   "execution_count": null,
   "metadata": {
    "collapsed": true
   },
   "outputs": [],
   "source": []
  }
 ],
 "metadata": {
  "kernelspec": {
   "display_name": "Python 2",
   "language": "python",
   "name": "python2"
  },
  "language_info": {
   "codemirror_mode": {
    "name": "ipython",
    "version": 2
   },
   "file_extension": ".py",
   "mimetype": "text/x-python",
   "name": "python",
   "nbconvert_exporter": "python",
   "pygments_lexer": "ipython2",
   "version": "2.7.6"
  }
 },
 "nbformat": 4,
 "nbformat_minor": 0
}
