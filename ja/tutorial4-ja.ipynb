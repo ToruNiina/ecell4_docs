{
 "cells": [
  {
   "cell_type": "code",
   "execution_count": 1,
   "metadata": {
    "collapsed": false
   },
   "outputs": [
    {
     "name": "stdout",
     "output_type": "stream",
     "text": [
      "Collecting ecell\n",
      "  Downloading ecell-4.1.2-cp36-cp36m-manylinux1_x86_64.whl (45.5MB)\n",
      "\u001b[K    100% |################################| 45.5MB 29kB/s  eta 0:00:011 day, 23:59:59    68% |#####################           | 31.0MB 52.8MB/s eta 0:00:01    91% |#############################   | 41.9MB 51.9MB/s eta 0:00:01    98% |############################### | 44.8MB 59.9MB/s eta 0:00:01\n",
      "\u001b[?25hInstalling collected packages: ecell\n",
      "Successfully installed ecell-4.1.2\n"
     ]
    }
   ],
   "source": [
    "!pip install ecell"
   ]
  },
  {
   "cell_type": "markdown",
   "metadata": {},
   "source": [
    "# 4. シミュレーションの走らせ方\n",
    "\n",
    "セクション2と3では、モデルを構築し、初期状態を設定する方法について説明しました。\n",
    "それでは、シミュレーションを実行してみましょう。\n",
    "「Spatiocyte.SpatiocyteSimulator」、「egfrd.EGFRDSimulator」、「bd.BDSimulator」、「meso.MesoscopicSimulator」、「gillespie.GillespieSimulator」、および「ode.ODESimulator」の6つの「シミュレータ」クラスが存在します。\n",
    " それぞれの `Simulator`クラスは` World`の対応する型だけを受け入れますが、それらのすべてが同じ `Model`を受け入れます。\n"
   ]
  },
  {
   "cell_type": "code",
   "execution_count": 2,
   "metadata": {
    "collapsed": true
   },
   "outputs": [],
   "source": [
    "import ecell4"
   ]
  },
  {
   "cell_type": "markdown",
   "metadata": {},
   "source": [
    "## 4.1. シミュレーターのセットアップの方法\n",
    "\n",
    "アルゴリズム固有の引数を持つ初期化（いわゆるコンストラクタ関数）を除いて、すべてのシミュレータは同じAPIを持っています。\n"
   ]
  },
  {
   "cell_type": "code",
   "execution_count": 3,
   "metadata": {
    "collapsed": true
   },
   "outputs": [],
   "source": [
    "from ecell4.core import *\n",
    "from ecell4.gillespie import GillespieWorld, GillespieSimulator\n",
    "from ecell4.ode import ODEWorld, ODESimulator\n",
    "from ecell4.spatiocyte import SpatiocyteWorld, SpatiocyteSimulator\n",
    "from ecell4.bd import BDWorld, BDSimulator\n",
    "from ecell4.meso import MesoscopicWorld, MesoscopicSimulator\n",
    "from ecell4.egfrd import EGFRDWorld, EGFRDSimulator"
   ]
  },
  {
   "cell_type": "markdown",
   "metadata": {},
   "source": [
    "`Simulator`を構築する前に、`Simulator`のタイプに対応する`Model`と`World`を用意してください。\n"
   ]
  },
  {
   "cell_type": "code",
   "execution_count": 4,
   "metadata": {
    "collapsed": false
   },
   "outputs": [],
   "source": [
    "from ecell4 import species_attributes, reaction_rules, get_model\n",
    "\n",
    "with species_attributes():\n",
    "    A | B | C | {'D': '1', 'radius': '0.005'}\n",
    "\n",
    "with reaction_rules():\n",
    "    A + B == C | (0.01, 0.3)\n",
    "\n",
    "m = get_model()"
   ]
  },
  {
   "cell_type": "code",
   "execution_count": 5,
   "metadata": {
    "collapsed": false
   },
   "outputs": [],
   "source": [
    "w1 = GillespieWorld()\n",
    "w2 = ODEWorld()\n",
    "w3 = SpatiocyteWorld()\n",
    "w4 = BDWorld()\n",
    "w5 = MesoscopicWorld()\n",
    "w6 = EGFRDWorld()"
   ]
  },
  {
   "cell_type": "markdown",
   "metadata": {},
   "source": [
    "シミュレータは、構築時に下記の順序でモデルとワールドの両方を必要とします。\n"
   ]
  },
  {
   "cell_type": "code",
   "execution_count": 5,
   "metadata": {
    "collapsed": true
   },
   "outputs": [],
   "source": [
    "sim1 = GillespieSimulator(m, w1)\n",
    "sim2 = ODESimulator(m, w2)\n",
    "sim3 = SpatiocyteSimulator(m, w3)\n",
    "sim4 = BDSimulator(m, w4)\n",
    "sim5 = MesoscopicSimulator(m, w5)\n",
    "sim6 = EGFRDSimulator(m, w6)"
   ]
  },
  {
   "cell_type": "markdown",
   "metadata": {},
   "source": [
    "`Model`を`World`にバインドした場合は、シミュレータを作成するために要るのは`World`だけです。\n"
   ]
  },
  {
   "cell_type": "code",
   "execution_count": 6,
   "metadata": {
    "collapsed": false
   },
   "outputs": [],
   "source": [
    "w1.bind_to(m)\n",
    "w2.bind_to(m)\n",
    "w3.bind_to(m)\n",
    "w4.bind_to(m)\n",
    "w5.bind_to(m)\n",
    "w6.bind_to(m)"
   ]
  },
  {
   "cell_type": "code",
   "execution_count": 7,
   "metadata": {
    "collapsed": true
   },
   "outputs": [],
   "source": [
    "sim1 = GillespieSimulator(w1)\n",
    "sim2 = ODESimulator(w2)\n",
    "sim3 = SpatiocyteSimulator(w3)\n",
    "sim4 = BDSimulator(w4)\n",
    "sim5 = MesoscopicSimulator(w5)\n",
    "sim6 = EGFRDSimulator(w6)"
   ]
  },
  {
   "cell_type": "markdown",
   "metadata": {},
   "source": [
    "もちろん、`Simulator`にバインドされた`Model`と`World`は、`Simulator`から以下のように引き出すことができます。\n"
   ]
  },
  {
   "cell_type": "code",
   "execution_count": 8,
   "metadata": {
    "collapsed": false
   },
   "outputs": [
    {
     "name": "stdout",
     "output_type": "stream",
     "text": [
      "(<ecell4.core.Model object at 0x7f6b329d1af8>, <ecell4.gillespie.GillespieWorld object at 0x7f6b329d1a08>)\n",
      "(<ecell4.ode.ODENetworkModel object at 0x7f6b329d1af8>, <ecell4.ode.ODEWorld object at 0x7f6b329d1ae0>)\n",
      "(<ecell4.core.Model object at 0x7f6b329d1af8>, <ecell4.spatiocyte.SpatiocyteWorld object at 0x7f6b329d1a08>)\n",
      "(<ecell4.core.Model object at 0x7f6b329d1af8>, <ecell4.bd.BDWorld object at 0x7f6b329d1ae0>)\n",
      "(<ecell4.core.Model object at 0x7f6b329d1af8>, <ecell4.meso.MesoscopicWorld object at 0x7f6b329d1ac8>)\n",
      "(<ecell4.core.Model object at 0x7f6b329d1af8>, <ecell4.egfrd.EGFRDWorld object at 0x7f6b329d1ae0>)\n"
     ]
    }
   ],
   "source": [
    "print(sim1.model(), sim1.world())\n",
    "print(sim2.model(), sim2.world())\n",
    "print(sim3.model(), sim3.world())\n",
    "print(sim4.model(), sim4.world())\n",
    "print(sim5.model(), sim5.world())\n",
    "print(sim6.model(), sim6.world())"
   ]
  },
  {
   "cell_type": "markdown",
   "metadata": {},
   "source": [
    "`World`を自分で更新した後は、シミュレーションを実行する前に`Simulator`の内部状態を初期化する必要があります。\n"
   ]
  },
  {
   "cell_type": "code",
   "execution_count": 9,
   "metadata": {
    "collapsed": true
   },
   "outputs": [],
   "source": [
    "w1.add_molecules(Species('C'), 60)\n",
    "w2.add_molecules(Species('C'), 60)\n",
    "w3.add_molecules(Species('C'), 60)\n",
    "w4.add_molecules(Species('C'), 60)\n",
    "w5.add_molecules(Species('C'), 60)\n",
    "w6.add_molecules(Species('C'), 60)"
   ]
  },
  {
   "cell_type": "code",
   "execution_count": 10,
   "metadata": {
    "collapsed": true
   },
   "outputs": [],
   "source": [
    "sim1.initialize()\n",
    "sim2.initialize()\n",
    "sim3.initialize()\n",
    "sim4.initialize()\n",
    "sim5.initialize()\n",
    "sim6.initialize()"
   ]
  },
  {
   "cell_type": "markdown",
   "metadata": {},
   "source": [
    "一定のステップ間隔を有するアルゴリズムの場合は上記に加え`dt`も必要です。"
   ]
  },
  {
   "cell_type": "code",
   "execution_count": 11,
   "metadata": {
    "collapsed": true
   },
   "outputs": [],
   "source": [
    "sim2.set_dt(1e-6)  # ODESimulator. This is optional\n",
    "sim4.set_dt(1e-6)  # BDSimulator"
   ]
  },
  {
   "cell_type": "markdown",
   "metadata": {},
   "source": [
    "## 4.2. シミュレーションの実行\n",
    "\n",
    "シミュレーションを実行するために、Simulatorは`step`と`run`の2つのAPIを提供します。\n",
    "`step()`は、シミュレータが期待する時間(`next_time()`)の間シミュレーションを進めます。\n"
   ]
  },
  {
   "cell_type": "code",
   "execution_count": 12,
   "metadata": {
    "collapsed": false
   },
   "outputs": [
    {
     "name": "stdout",
     "output_type": "stream",
     "text": [
      "(0.0, 0.032171880483933143, 0.032171880483933143)\n",
      "(0.0, 1e-06, 1e-06)\n",
      "(0.0, 1.6666666666666667e-05, 1.6666666666666667e-05)\n",
      "(0.0, 1e-06, 1e-06)\n",
      "(0.0, 0.029999537310460653, 0.029999537310460653)\n",
      "(0.0, 0.0, 0.0)\n"
     ]
    }
   ],
   "source": [
    "print(sim1.t(), sim1.next_time(), sim1.dt())\n",
    "print(sim2.t(), sim2.next_time(), sim2.dt())  # => (0.0, 1e-6, 1e-6)\n",
    "print(sim3.t(), sim3.next_time(), sim3.dt())\n",
    "print(sim4.t(), sim4.next_time(), sim4.dt())  # => (0.0, 1e-6, 1e-6)\n",
    "print(sim5.t(), sim5.next_time(), sim5.dt())\n",
    "print(sim6.t(), sim6.next_time(), sim6.dt())  # => (0.0, 0.0, 0.0)"
   ]
  },
  {
   "cell_type": "code",
   "execution_count": 13,
   "metadata": {
    "collapsed": false
   },
   "outputs": [],
   "source": [
    "sim1.step()\n",
    "sim2.step()\n",
    "sim3.step()\n",
    "sim4.step()\n",
    "sim5.step()\n",
    "sim6.step()"
   ]
  },
  {
   "cell_type": "code",
   "execution_count": 14,
   "metadata": {
    "collapsed": false
   },
   "outputs": [
    {
     "name": "stdout",
     "output_type": "stream",
     "text": [
      "0.0321718804839\n",
      "1e-06\n",
      "1.66666666667e-05\n",
      "1e-06\n",
      "0.0299995373105\n",
      "0.0\n"
     ]
    }
   ],
   "source": [
    "print(sim1.t())\n",
    "print(sim2.t())  # => 1e-6\n",
    "print(sim3.t())\n",
    "print(sim4.t())  # => 1e-6\n",
    "print(sim5.t())\n",
    "print(sim6.t())  # => 0.0"
   ]
  },
  {
   "cell_type": "markdown",
   "metadata": {},
   "source": [
    "`last_reactions()`は、最後のステップで発生する`ReactionRule`と`ReactionInfo`のペアのリストを返します。\n",
    "各アルゴリズムにはReactionInfoの独自の実装があります。\n",
    "詳細については、`help(module.ReactionInfo)`を参照してください。\n"
   ]
  },
  {
   "cell_type": "code",
   "execution_count": 15,
   "metadata": {
    "collapsed": false
   },
   "outputs": [
    {
     "name": "stdout",
     "output_type": "stream",
     "text": [
      "[(<ecell4.core.ReactionRule object at 0x7f6b329d1ae0>, <ecell4.gillespie.ReactionInfo object at 0x7f6b329d1af8>)]\n",
      "[]\n",
      "[]\n",
      "[(<ecell4.core.ReactionRule object at 0x7f6b329d1ae0>, <ecell4.meso.ReactionInfo object at 0x7f6b329d1af8>)]\n",
      "[]\n"
     ]
    }
   ],
   "source": [
    "print(sim1.last_reactions())\n",
    "# print(sim2.last_reactions())\n",
    "print(sim3.last_reactions())\n",
    "print(sim4.last_reactions())\n",
    "print(sim5.last_reactions())\n",
    "print(sim6.last_reactions())"
   ]
  },
  {
   "cell_type": "markdown",
   "metadata": {},
   "source": [
    "`step(upto)`は、`next_time`が`upto`より小さい場合は`next_time`のシミュレーションを進め、それ以外の場合は`upto`まで実行します。\n",
    "また`step(upto)`は時間が上限(`upto`)に達して**いないか**どうかを返します。\n"
   ]
  },
  {
   "cell_type": "code",
   "execution_count": 16,
   "metadata": {
    "collapsed": false
   },
   "outputs": [
    {
     "name": "stdout",
     "output_type": "stream",
     "text": [
      "(True, 0.11785771174833615)\n",
      "(True, 2e-06)\n",
      "(True, 3.3333333333333335e-05)\n",
      "(True, 2e-06)\n",
      "(True, 0.0709074540101994)\n",
      "(True, 0.0)\n"
     ]
    }
   ],
   "source": [
    "print(sim1.step(1.0), sim1.t())\n",
    "print(sim2.step(1.0), sim2.t())\n",
    "print(sim3.step(1.0), sim3.t())\n",
    "print(sim4.step(1.0), sim4.t())\n",
    "print(sim5.step(1.0), sim5.t())\n",
    "print(sim6.step(1.0), sim6.t())"
   ]
  },
  {
   "cell_type": "markdown",
   "metadata": {},
   "source": [
    "`upto` の時間ちょうどまでシミュレーションをは走らせるには, それが`True`を返す間 `step(upto)` を呼びます。\n"
   ]
  },
  {
   "cell_type": "code",
   "execution_count": 17,
   "metadata": {
    "collapsed": false
   },
   "outputs": [],
   "source": [
    "while sim1.step(1.0): pass\n",
    "while sim2.step(0.001): pass\n",
    "while sim3.step(0.001): pass\n",
    "while sim4.step(0.001): pass\n",
    "while sim5.step(1.0): pass\n",
    "while sim6.step(0.001): pass"
   ]
  },
  {
   "cell_type": "code",
   "execution_count": 18,
   "metadata": {
    "collapsed": false
   },
   "outputs": [
    {
     "name": "stdout",
     "output_type": "stream",
     "text": [
      "1.0\n",
      "0.001\n",
      "0.001\n",
      "0.001\n",
      "1.0\n",
      "0.001\n"
     ]
    }
   ],
   "source": [
    "print(sim1.t())  # => 1.0\n",
    "print(sim2.t())  # => 0.001\n",
    "print(sim3.t())  # => 0.001\n",
    "print(sim4.t())  # => 0.001\n",
    "print(sim5.t())  # => 1.0\n",
    "print(sim6.t())  # => 0.001"
   ]
  },
  {
   "cell_type": "markdown",
   "metadata": {},
   "source": [
    "これはちょうど `run` の動作と同じものです。\n",
    "`run(tau)`は`t()+tau`の時間までシミュレーションを進めます。"
   ]
  },
  {
   "cell_type": "code",
   "execution_count": 19,
   "metadata": {
    "collapsed": true
   },
   "outputs": [],
   "source": [
    "sim1.run(1.0)\n",
    "sim2.run(0.001)\n",
    "sim3.run(0.001)\n",
    "sim4.run(0.001)\n",
    "sim5.run(1.0)\n",
    "sim6.run(0.001)"
   ]
  },
  {
   "cell_type": "code",
   "execution_count": 20,
   "metadata": {
    "collapsed": false
   },
   "outputs": [
    {
     "name": "stdout",
     "output_type": "stream",
     "text": [
      "2.0\n",
      "0.002\n",
      "0.002\n",
      "0.002\n",
      "2.0\n",
      "0.002\n"
     ]
    }
   ],
   "source": [
    "print(sim1.t())  # => 2.0\n",
    "print(sim2.t())  # => 0.002\n",
    "print(sim3.t())  # => 0.002\n",
    "print(sim4.t())  # => 0.002\n",
    "print(sim5.t())  # => 2.0\n",
    "print(sim6.t())  # => 0.02"
   ]
  },
  {
   "cell_type": "markdown",
   "metadata": {},
   "source": [
    "`num_steps`は、シミュレーション中のステップ数を返します。\n"
   ]
  },
  {
   "cell_type": "code",
   "execution_count": 21,
   "metadata": {
    "collapsed": false
   },
   "outputs": [
    {
     "name": "stdout",
     "output_type": "stream",
     "text": [
      "37\n",
      "2001\n",
      "120\n",
      "2001\n",
      "34\n",
      "581\n"
     ]
    }
   ],
   "source": [
    "print(sim1.num_steps())\n",
    "print(sim2.num_steps())\n",
    "print(sim3.num_steps())\n",
    "print(sim4.num_steps())\n",
    "print(sim5.num_steps())\n",
    "print(sim6.num_steps())"
   ]
  },
  {
   "cell_type": "markdown",
   "metadata": {},
   "source": [
    "## 4.3. アルゴリズムをカプセル化してファクトリクラスに\n",
    "\n",
    "`Model`の移植性と` World`と `Simulator`の一貫したAPIのおかげで、アルゴリズムに共通するスクリプトを書くのは非常に簡単です。\n",
    "しかし、アルゴリズムを切り替えるときには、コード内のクラスの名前を1つずつ書き直す必要があります。\n",
    "\n",
    "この問題を回避するために、E-Cell4はアルゴリズムごとに `Factory`クラスも提供しています。 `Factory`は` World`と `Simulator`を構造化に必要な引数でカプセル化します。 `Factory`クラスを使うことで、あなたのスクリプトはアルゴリズムの変更に対してポータブルかつロバストになります。\n"
   ]
  },
  {
   "cell_type": "code",
   "execution_count": 22,
   "metadata": {
    "collapsed": true
   },
   "outputs": [],
   "source": [
    "from ecell4.gillespie import GillespieFactory\n",
    "from ecell4.ode import ODEFactory\n",
    "from ecell4.spatiocyte import SpatiocyteFactory\n",
    "from ecell4.bd import BDFactory\n",
    "from ecell4.meso import MesoscopicFactory\n",
    "from ecell4.egfrd import EGFRDFactory"
   ]
  },
  {
   "cell_type": "markdown",
   "metadata": {},
   "source": [
    "`Factory`は` create_world`と `create_simulator`の2つの関数を提供します。\n"
   ]
  },
  {
   "cell_type": "code",
   "execution_count": 23,
   "metadata": {
    "collapsed": true
   },
   "outputs": [],
   "source": [
    "def singlerun(f, m):\n",
    "    w = f.create_world(Real3(1, 1, 1))\n",
    "    w.bind_to(m)\n",
    "    w.add_molecules(Species('C'), 60)\n",
    "    \n",
    "    sim = f.create_simulator(w)\n",
    "    sim.run(0.01)\n",
    "    print(sim.t(), w.num_molecules(Species('C')))"
   ]
  },
  {
   "cell_type": "markdown",
   "metadata": {},
   "source": [
    "上記の`singlerun`はアルゴリズムから独立しています。\n",
    "したがって、単に`Factory`を切り替えるだけで、結果を簡単に比較することができます。\n"
   ]
  },
  {
   "cell_type": "code",
   "execution_count": 24,
   "metadata": {
    "collapsed": false
   },
   "outputs": [
    {
     "name": "stdout",
     "output_type": "stream",
     "text": [
      "(0.01, 60)\n",
      "(0.01, 59)\n",
      "(0.01, 60)\n",
      "(0.01, 60)\n",
      "(0.01, 60)\n",
      "(0.01, 60)\n"
     ]
    }
   ],
   "source": [
    "singlerun(GillespieFactory(), m)\n",
    "singlerun(ODEFactory(), m)\n",
    "singlerun(SpatiocyteFactory(), m)\n",
    "singlerun(BDFactory(bd_dt_factor=1), m)\n",
    "singlerun(MesoscopicFactory(), m)\n",
    "singlerun(EGFRDFactory(), m)"
   ]
  },
  {
   "cell_type": "markdown",
   "metadata": {},
   "source": [
    "`World`や` Simulator`を初期化するためにいくつかのパラメータを指定する必要があるとき、 `run_simulation`は` solver`の代わりに `Factory`を受け取ります。\n"
   ]
  },
  {
   "cell_type": "code",
   "execution_count": 25,
   "metadata": {
    "collapsed": false
   },
   "outputs": [
    {
     "name": "stdout",
     "output_type": "stream",
     "text": [
      "[0.01, 0.0, 0.0, 60.0]\n",
      "[0.01, 0.17972919304001073, 0.17972919304001067, 59.82027080696036]\n",
      "[0.01, 0.0, 0.0, 60.0]\n",
      "[0.01, 0.0, 0.0, 60.0]\n",
      "[0.01, 0.0, 0.0, 60.0]\n",
      "[0.01, 0.0, 0.0, 60.0]\n"
     ]
    }
   ],
   "source": [
    "from ecell4.util import run_simulation\n",
    "print(run_simulation(0.01, model=m, y0={'C': 60}, return_type='array', factory=GillespieFactory())[-1])\n",
    "print(run_simulation(0.01, model=m, y0={'C': 60}, return_type='array', factory=ODEFactory())[-1])\n",
    "print(run_simulation(0.01, model=m, y0={'C': 60}, return_type='array', factory=SpatiocyteFactory())[-1])\n",
    "print(run_simulation(0.01, model=m, y0={'C': 60}, return_type='array', factory=BDFactory(bd_dt_factor=1))[-1])\n",
    "print(run_simulation(0.01, model=m, y0={'C': 60}, return_type='array', factory=MesoscopicFactory())[-1])\n",
    "print(run_simulation(0.01, model=m, y0={'C': 60}, return_type='array', factory=EGFRDFactory())[-1])"
   ]
  }
 ],
 "metadata": {
  "kernelspec": {
   "display_name": "Python 3.6",
   "language": "python",
   "name": "python36"
  },
  "language_info": {
   "codemirror_mode": {
    "name": "ipython",
    "version": 3
   },
   "file_extension": ".py",
   "mimetype": "text/x-python",
   "name": "python",
   "nbconvert_exporter": "python",
   "pygments_lexer": "ipython3",
   "version": "3.6.0"
  }
 },
 "nbformat": 4,
 "nbformat_minor": 0
}
