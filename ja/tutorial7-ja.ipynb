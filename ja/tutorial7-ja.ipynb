{
 "cells": [
  {
   "cell_type": "markdown",
   "metadata": {},
   "source": [
    "# 7. ルールベースモデリング入門\n",
    "\n",
    "E-Cell4は、ルールベースモデリング環境を提供します。\n"
   ]
  },
  {
   "cell_type": "code",
   "execution_count": 1,
   "metadata": {
    "collapsed": true
   },
   "outputs": [],
   "source": [
    "%matplotlib inline\n",
    "from ecell4 import *"
   ]
  },
  {
   "cell_type": "markdown",
   "metadata": {},
   "source": [
    "## 7.1. Species.count\n",
    "\n",
    "まず、`Species`は`count`関数を提供します。\n",
    "\n",
    "`Species.count` は `Species` の間でマッチした数を数えます。\n"
   ]
  },
  {
   "cell_type": "code",
   "execution_count": 2,
   "metadata": {},
   "outputs": [
    {
     "name": "stdout",
     "output_type": "stream",
     "text": [
      "1\n",
      "2\n"
     ]
    }
   ],
   "source": [
    "sp1 = Species(\"A(b^1).B(b^1)\")\n",
    "sp2 = Species(\"A(b^1).A(b^1)\")\n",
    "pttrn1 = Species(\"A\")\n",
    "print(pttrn1.count(sp1))  # => 1\n",
    "print(pttrn1.count(sp2))  # => 2"
   ]
  },
  {
   "cell_type": "markdown",
   "metadata": {},
   "source": [
    "上記の場合、`Species.count`はサイトには関係なく `Species` の `A` という名前の `UnitSpecies` の数を返します。\n",
    "結合の有無の状態を明確にする場合は下記のようになります。\n"
   ]
  },
  {
   "cell_type": "code",
   "execution_count": 3,
   "metadata": {},
   "outputs": [
    {
     "name": "stdout",
     "output_type": "stream",
     "text": [
      "0\n",
      "1\n"
     ]
    }
   ],
   "source": [
    "pttrn1 = Species(\"A(b)\")\n",
    "pttrn2 = Species(\"A(b^_)\")\n",
    "print(pttrn1.count(sp1))  # => 0\n",
    "print(pttrn2.count(sp1))  # => 1"
   ]
  },
  {
   "cell_type": "markdown",
   "metadata": {},
   "source": [
    "ここで`A(b)`は結合`b`が空いていることを示唆し、`A(b^_)`は結合`b`が有ることを意味します。\n",
    "アンダースコア `_`はワイルドカードを意味します。\n",
    "同様に、サイトの状態を指定することもできます。\n"
   ]
  },
  {
   "cell_type": "code",
   "execution_count": 4,
   "metadata": {},
   "outputs": [
    {
     "name": "stdout",
     "output_type": "stream",
     "text": [
      "1\n",
      "1\n"
     ]
    }
   ],
   "source": [
    "sp1 = Species(\"A(b=u)\")\n",
    "pttrn1 = Species(\"A(b)\")\n",
    "pttrn2 = Species(\"A(b=u)\")\n",
    "print(pttrn1.count(sp1))  # => 1\n",
    "print(pttrn2.count(sp1))  # => 1"
   ]
  },
  {
   "cell_type": "markdown",
   "metadata": {},
   "source": [
    "`A(b)`は状態については何も言いませんが、 `A(b=u)`は状態と結合の両方をその分子の条件として明記します。\n",
    "`A(b=u)`は、`A`という名前の `UnitSpecies`が状態が`u`で結合が空である `b`というサイトを持つことを意味します。 ワイルドカード `_`は状態と名前両方で用いることが可能です。\n"
   ]
  },
  {
   "cell_type": "code",
   "execution_count": 5,
   "metadata": {},
   "outputs": [
    {
     "name": "stdout",
     "output_type": "stream",
     "text": [
      "1\n",
      "2\n"
     ]
    }
   ],
   "source": [
    "sp1 = Species(\"A(b=u^1).B(b=p^1)\")\n",
    "pttrn1 = Species(\"A(b=_^_)\")  # This is equivalent to `A(b^_)` here\n",
    "pttrn2 = Species(\"_(b^_)\")\n",
    "print(pttrn1.count(sp1))  # => 1\n",
    "print(pttrn2.count(sp1))  # => 2"
   ]
  },
  {
   "cell_type": "markdown",
   "metadata": {},
   "source": [
    "ワイルドカード `_` は何にでもマッチし、マッチしたパターンは `Species` でもワイルドカード間で一貫しません。\n",
    "\n",
    "一方、名前付きのワイルドカード `_1` 、`_2` などは、マッチ内の一貫性を与えます。\n"
   ]
  },
  {
   "cell_type": "code",
   "execution_count": 6,
   "metadata": {},
   "outputs": [
    {
     "name": "stdout",
     "output_type": "stream",
     "text": [
      "2\n",
      "0\n"
     ]
    }
   ],
   "source": [
    "sp1 = Species(\"A(b^1).B(b^1)\")\n",
    "pttrn1 = Species(\"_._\")\n",
    "pttrn2 = Species(\"_1._1\")\n",
    "print(pttrn1.count(sp1))  # => 2\n",
    "print(pttrn2.count(sp1))  # => 0"
   ]
  },
  {
   "cell_type": "markdown",
   "metadata": {},
   "source": [
    "最初のパターンは2つの方法（`A.B` と `B.A`）でマッチしますが、2番目のパターンは何もマッチしません。\n",
    "\n",
    "`Species.count`は対称の場合でも常に `UnitSpecies` の順序を区別します。\n",
    "したがって、 `_1._1` は二量体の数を意味しません。\n"
   ]
  },
  {
   "cell_type": "code",
   "execution_count": 7,
   "metadata": {},
   "outputs": [
    {
     "name": "stdout",
     "output_type": "stream",
     "text": [
      "2\n"
     ]
    }
   ],
   "source": [
    "sp1 = Species(\"A(b^1).A(b^1)\")\n",
    "pttrn1 = Species(\"_1._1\")\n",
    "print(pttrn1.count(sp1))  # => 2"
   ]
  },
  {
   "cell_type": "markdown",
   "metadata": {},
   "source": [
    "## 7.2. ReactionRule.count and generate\n",
    "\n",
    "`ReactionRule` also has a function to count matches agaist the given list of reactants."
   ]
  },
  {
   "cell_type": "code",
   "execution_count": 8,
   "metadata": {},
   "outputs": [
    {
     "name": "stdout",
     "output_type": "stream",
     "text": [
      "1\n"
     ]
    }
   ],
   "source": [
    "rr1 = create_unimolecular_reaction_rule(Species(\"A(p=u)\"), Species(\"A(p=p)\"), 1.0)\n",
    "sp1 = Species(\"A(b^1,p=u).B(b^1)\")\n",
    "print(rr1.count([sp1]))  # => 1"
   ]
  },
  {
   "cell_type": "markdown",
   "metadata": {},
   "source": [
    "`ReactionRule.generate` returns a list of `ReactionRule`s generated based on the matches."
   ]
  },
  {
   "cell_type": "code",
   "execution_count": 9,
   "metadata": {},
   "outputs": [
    {
     "name": "stdout",
     "output_type": "stream",
     "text": [
      "[u'A(b^1,p=u).B(b^1)>A(b^1,p=p).B(b^1)|1']\n"
     ]
    }
   ],
   "source": [
    "print([rr.as_string() for rr in rr1.generate([sp1])])"
   ]
  },
  {
   "cell_type": "markdown",
   "metadata": {
    "collapsed": true
   },
   "source": [
    "`ReactionRule.generate` matters the order of `Species` in the given list:"
   ]
  },
  {
   "cell_type": "code",
   "execution_count": 10,
   "metadata": {},
   "outputs": [
    {
     "name": "stdout",
     "output_type": "stream",
     "text": [
      "[u'A(b)+B(b)>A(b^1).B(b^1)|1']\n",
      "[]\n"
     ]
    }
   ],
   "source": [
    "rr1 = create_binding_reaction_rule(Species(\"A(b)\"), Species(\"B(b)\"), Species(\"A(b^1).B(b^1)\"), 1.0)\n",
    "sp1 = Species(\"A(b)\")\n",
    "sp2 = Species(\"B(b)\")\n",
    "print([rr.as_string() for rr in rr1.generate([sp1, sp2])])\n",
    "print([rr.as_string() for rr in rr1.generate([sp2, sp1])])"
   ]
  },
  {
   "cell_type": "markdown",
   "metadata": {},
   "source": [
    "On the current implementation, `ReactionRule.generate` does **not** always return a list of unique `ReactionRule`s."
   ]
  },
  {
   "cell_type": "code",
   "execution_count": 11,
   "metadata": {},
   "outputs": [
    {
     "name": "stdout",
     "output_type": "stream",
     "text": [
      "4\n",
      "[u'A(b,c^1).A(b,c^1)+B(b,c^1).B(b,c^1)>A(b^1,c^2).A(b,c^2).B(b^1,c^3).B(b,c^3)|1', u'A(b,c^1).A(b,c^1)+B(b,c^1).B(b,c^1)>A(b^1,c^2).A(b,c^2).B(b,c^3).B(b^1,c^3)|1', u'A(b,c^1).A(b,c^1)+B(b,c^1).B(b,c^1)>A(b,c^1).A(b^2,c^1).B(b^2,c^3).B(b,c^3)|1', u'A(b,c^1).A(b,c^1)+B(b,c^1).B(b,c^1)>A(b,c^1).A(b^2,c^1).B(b,c^3).B(b^2,c^3)|1']\n"
     ]
    }
   ],
   "source": [
    "sp1 = Species(\"A(b,c^1).A(b,c^1)\")\n",
    "sp2 = Species(\"B(b,c^1).B(b,c^1)\")\n",
    "print(rr1.count([sp1, sp2]))  # => 4\n",
    "print([rr.as_string() for rr in rr1.generate([sp1, sp2])])"
   ]
  },
  {
   "cell_type": "markdown",
   "metadata": {},
   "source": [
    "`ReactionRules` listed above look different, but all the products suggest the same."
   ]
  },
  {
   "cell_type": "code",
   "execution_count": 12,
   "metadata": {},
   "outputs": [
    {
     "name": "stdout",
     "output_type": "stream",
     "text": [
      "set([u'A(b,c^1).A(b^2,c^1).B(b^2,c^3).B(b,c^3)'])\n"
     ]
    }
   ],
   "source": [
    "print(set([unique_serial(rr.products()[0]) for rr in rr1.generate([sp1, sp2])]))"
   ]
  },
  {
   "cell_type": "markdown",
   "metadata": {},
   "source": [
    "This is because these `ReactionRule`s are generated based on the diffent matches though they produces the same `Species`. Fot details, See the section below.\n",
    "\n",
    "Wildcard is also available in `ReactionRule`."
   ]
  },
  {
   "cell_type": "code",
   "execution_count": 13,
   "metadata": {},
   "outputs": [
    {
     "name": "stdout",
     "output_type": "stream",
     "text": [
      "[u'A(p=u^1).B(p^1)>A(p=p^1).B(p^1)|1']\n"
     ]
    }
   ],
   "source": [
    "rr1 = create_unimolecular_reaction_rule(Species(\"A(p=u^_)\"), Species(\"A(p=p^_)\"), 1.0)\n",
    "print([rr.as_string() for rr in rr1.generate([Species(\"A(p=u^1).B(p^1)\")])])"
   ]
  },
  {
   "cell_type": "markdown",
   "metadata": {},
   "source": [
    "Of course, wildcard is accepted as a name of `UnitSpecies`."
   ]
  },
  {
   "cell_type": "code",
   "execution_count": 14,
   "metadata": {},
   "outputs": [
    {
     "name": "stdout",
     "output_type": "stream",
     "text": [
      "[u'A(p=u)>A(p=p)|1']\n",
      "[u'B(b^1,p=u).C(b^1,p=u)>B(b^1,p=p).C(b^1,p=u)|1', u'B(b^1,p=u).C(b^1,p=u)>B(b^1,p=u).C(b^1,p=p)|1']\n"
     ]
    }
   ],
   "source": [
    "rr1 = create_unimolecular_reaction_rule(Species(\"_(p=u)\"), Species(\"_(p=p)\"), 1.0)\n",
    "print([rr.as_string() for rr in rr1.generate([Species(\"A(p=u)\")])])\n",
    "print([rr.as_string() for rr in rr1.generate([Species(\"B(b^1,p=u).C(b^1,p=u)\")])])"
   ]
  },
  {
   "cell_type": "markdown",
   "metadata": {},
   "source": [
    "Named wildcards in a state is useful to specify the correspondence between sites."
   ]
  },
  {
   "cell_type": "code",
   "execution_count": 15,
   "metadata": {},
   "outputs": [
    {
     "name": "stdout",
     "output_type": "stream",
     "text": [
      "[u'AB(a=x,b=y)>B(b=y)+A(a=x)|1']\n",
      "[u'AB(a=y,b=x)>B(b=x)+A(a=y)|1']\n"
     ]
    }
   ],
   "source": [
    "rr1 = create_unbinding_reaction_rule(Species(\"AB(a=_1, b=_2)\"), Species(\"B(b=_2)\"), Species(\"A(a=_1)\"), 1.0)\n",
    "print([rr.as_string() for rr in rr1.generate([Species(\"AB(a=x, b=y)\")])])\n",
    "print([rr.as_string() for rr in rr1.generate([Species(\"AB(a=y, b=x)\")])])"
   ]
  },
  {
   "cell_type": "markdown",
   "metadata": {},
   "source": [
    "Nameless wildcard `_` does not care about equality between matches. Products are generated in order."
   ]
  },
  {
   "cell_type": "code",
   "execution_count": 16,
   "metadata": {},
   "outputs": [
    {
     "name": "stdout",
     "output_type": "stream",
     "text": [
      "_(b)+_(b)>_(b^1)._(b^1)|1\n",
      "[u'A(b)+A(b)>A(b^1).A(b^1)|1']\n",
      "[u'A(b)+B(b)>A(b^1).B(b^1)|1']\n"
     ]
    }
   ],
   "source": [
    "rr1 = create_binding_reaction_rule(Species(\"_(b)\"), Species(\"_(b)\"), Species(\"_(b^1)._(b^1)\"), 1.0)\n",
    "print(rr1.as_string())\n",
    "print([rr.as_string() for rr in rr1.generate([Species(\"A(b)\"), Species(\"A(b)\")])])\n",
    "print([rr.as_string() for rr in rr1.generate([Species(\"A(b)\"), Species(\"B(b)\")])])"
   ]
  },
  {
   "cell_type": "markdown",
   "metadata": {},
   "source": [
    "For its symmetry, the former case above is sometimes preffered to have a half of the original kinetic rate. This is because the number of combinations of molecules in the former is $n(n-1)/2$ even though that in the later is $n^2$, where both numbers of A and B molecules are $n$. This is true for `gillespie` and `ode`. However, in `egfrd` and `spatiocyte`, a kinetic rate is intrinsic one, and not affected by the number of combinations. Thus, in E-Cell4, no modification in the rate is done even for the case. See [Homodimerization and Annihilation](../Tests/Homodimerization and Annihilation.ipynb) for the difference between algorithms.\n",
    "\n",
    "In constrast to nameless wildcard, named wildcard keeps its consistency, and always suggests the same value in the `ReactionRule`."
   ]
  },
  {
   "cell_type": "code",
   "execution_count": 17,
   "metadata": {},
   "outputs": [
    {
     "name": "stdout",
     "output_type": "stream",
     "text": [
      "_1(b)+_1(b)>_1(b^1)._1(b^1)|1\n",
      "[u'A(b)+A(b)>A(b^1).A(b^1)|1']\n",
      "[]\n"
     ]
    }
   ],
   "source": [
    "rr1 = create_binding_reaction_rule(Species(\"_1(b)\"), Species(\"_1(b)\"), Species(\"_1(b^1)._1(b^1)\"), 1.0)\n",
    "print(rr1.as_string())\n",
    "print([rr.as_string() for rr in rr1.generate([Species(\"A(b)\"), Species(\"A(b)\")])])\n",
    "print([rr.as_string() for rr in rr1.generate([Species(\"A(b)\"), Species(\"B(b)\")])])  # => []"
   ]
  },
  {
   "cell_type": "markdown",
   "metadata": {},
   "source": [
    "Named wildcard is consistent even between `UnitSpecies`' and `site`'s names, technically."
   ]
  },
  {
   "cell_type": "code",
   "execution_count": 18,
   "metadata": {},
   "outputs": [
    {
     "name": "stdout",
     "output_type": "stream",
     "text": [
      "A(b=_1)+_1(b)>A(b=_1^1)._1(b^1)|1\n",
      "[]\n",
      "[u'A(b=B)+B(b)>A(b=B^1).B(b^1)|1']\n"
     ]
    }
   ],
   "source": [
    "rr1 = create_binding_reaction_rule(Species(\"A(b=_1)\"), Species(\"_1(b)\"), Species(\"A(b=_1^1)._1(b^1)\"), 1.0)\n",
    "print(rr1.as_string())\n",
    "print([rr.as_string() for rr in rr1.generate([Species(\"A(b=B)\"), Species(\"A(b)\")])])  # => []\n",
    "print([rr.as_string() for rr in rr1.generate([Species(\"A(b=B)\"), Species(\"B(b)\")])])"
   ]
  },
  {
   "cell_type": "markdown",
   "metadata": {},
   "source": [
    "## 7.3. NetfreeModel\n",
    "\n",
    "`NetfreeModel` is a `Model` class for the rule-based modeling. The interface of `NetfreeModel` is almost same with `NetworkModel`, but takes into account rules and matches."
   ]
  },
  {
   "cell_type": "code",
   "execution_count": 19,
   "metadata": {},
   "outputs": [
    {
     "name": "stdout",
     "output_type": "stream",
     "text": [
      "1\n",
      "1\n"
     ]
    }
   ],
   "source": [
    "rr1 = create_binding_reaction_rule(Species(\"A(r)\"), Species(\"A(l)\"), Species(\"A(r^1).A(l^1)\"), 1.0)\n",
    "\n",
    "m1 = NetfreeModel()\n",
    "m1.add_reaction_rule(rr1)\n",
    "print(m1.num_reaction_rules())\n",
    "\n",
    "m2 = NetworkModel()\n",
    "m2.add_reaction_rule(rr1)\n",
    "print(m2.num_reaction_rules())"
   ]
  },
  {
   "cell_type": "markdown",
   "metadata": {},
   "source": [
    "Python notation explained in [2. How to Build a Model](2. How to Build a Model.ipynb) is available too. To get a model as `NetfreeModel`, set `is_netfree` `True` in `get_model`:"
   ]
  },
  {
   "cell_type": "code",
   "execution_count": 20,
   "metadata": {},
   "outputs": [
    {
     "name": "stdout",
     "output_type": "stream",
     "text": [
      "<ecell4.core.NetfreeModel object at 0x7fbb44dc7708>\n"
     ]
    }
   ],
   "source": [
    "with reaction_rules():\n",
    "    A(r) + A(l) > A(r^1).A(l^1) | 1.0\n",
    "\n",
    "m1 = get_model(is_netfree=True)\n",
    "print(repr(m1))"
   ]
  },
  {
   "cell_type": "markdown",
   "metadata": {},
   "source": [
    "`Model.query_reaction_rules` returns a list of `ReactionRule`s agaist the given reactants. `NetworkModel` just returns `ReactionRule`s based on the equality of `Species`."
   ]
  },
  {
   "cell_type": "code",
   "execution_count": 21,
   "metadata": {},
   "outputs": [
    {
     "name": "stdout",
     "output_type": "stream",
     "text": [
      "1\n",
      "0\n"
     ]
    }
   ],
   "source": [
    "print(len(m2.query_reaction_rules(Species(\"A(r)\"), Species(\"A(l)\"))))  # => 1\n",
    "print(len(m2.query_reaction_rules(Species(\"A(l,r)\"), Species(\"A(l,r)\"))))  # => 0"
   ]
  },
  {
   "cell_type": "markdown",
   "metadata": {},
   "source": [
    "On the other hand, `NetfreeModel` genarates the list by applying the stored `ReactionRule`s in the rule-based way."
   ]
  },
  {
   "cell_type": "code",
   "execution_count": 22,
   "metadata": {},
   "outputs": [
    {
     "name": "stdout",
     "output_type": "stream",
     "text": [
      "1\n",
      "1\n"
     ]
    }
   ],
   "source": [
    "print(len(m1.query_reaction_rules(Species(\"A(r)\"), Species(\"A(l)\"))))  # => 1\n",
    "print(len(m1.query_reaction_rules(Species(\"A(l,r)\"), Species(\"A(l,r)\"))))  # => 1"
   ]
  },
  {
   "cell_type": "markdown",
   "metadata": {},
   "source": [
    "`NetfreeModel` does not cache generated objects. Thus, `NetfreeModel.query_reaction_rules` is slow, but needs less memory."
   ]
  },
  {
   "cell_type": "code",
   "execution_count": 23,
   "metadata": {},
   "outputs": [
    {
     "name": "stdout",
     "output_type": "stream",
     "text": [
      "A(l,r)+A(l,r)>A(l,r^1).A(l^1,r)|2\n",
      "A(l,r^1).A(l^1,r)+A(l,r)>A(l,r^1).A(l^1,r^2).A(l^2,r)|2\n",
      "A(l,r^1).A(l^1,r)+A(l,r^1).A(l^1,r)>A(l,r^1).A(l^1,r^2).A(l^2,r^3).A(l^3,r)|2\n"
     ]
    }
   ],
   "source": [
    "print(m1.query_reaction_rules(Species(\"A(l,r)\"), Species(\"A(l,r)\"))[0].as_string())\n",
    "print(m1.query_reaction_rules(Species(\"A(l,r^1).A(l^1,r)\"), Species(\"A(l,r)\"))[0].as_string())\n",
    "print(m1.query_reaction_rules(Species(\"A(l,r^1).A(l^1,r)\"), Species(\"A(l,r^1).A(l^1,r)\"))[0].as_string())"
   ]
  },
  {
   "cell_type": "markdown",
   "metadata": {},
   "source": [
    "`NetfreeModel.expand` expands `NetfreeModel` to `NetworkModel` by iteratively applying `ReactionRule`s agaist the given seeds."
   ]
  },
  {
   "cell_type": "code",
   "execution_count": 24,
   "metadata": {},
   "outputs": [
    {
     "name": "stdout",
     "output_type": "stream",
     "text": [
      "2\n",
      "6\n",
      "[u'A(b)+A(b)>A(b^1).A(b^1)|1', u'A(b)+B(b)>A(b^1).B(b^1)|1', u'B(b)+B(b)>B(b^1).B(b^1)|1', u'A(b^1).A(b^1)>A(b)+A(b)|1', u'A(b^1).B(b^1)>A(b)+B(b)|1', u'B(b^1).B(b^1)>B(b)+B(b)|1']\n"
     ]
    }
   ],
   "source": [
    "with reaction_rules():\n",
    "    _(b) + _(b) == _(b^1)._(b^1) | (1.0, 1.0)\n",
    "\n",
    "m3 = get_model(True)\n",
    "print(m3.num_reaction_rules())\n",
    "\n",
    "m4 = m3.expand([Species(\"A(b)\"), Species(\"B(b)\")])\n",
    "print(m4.num_reaction_rules())\n",
    "print([rr.as_string() for rr in m4.reaction_rules()])"
   ]
  },
  {
   "cell_type": "markdown",
   "metadata": {},
   "source": [
    "To avoid the infinite iteration for expansion, you can limit the maximum number of iterations and of `UnitSpecies` in a `Species`."
   ]
  },
  {
   "cell_type": "code",
   "execution_count": 25,
   "metadata": {},
   "outputs": [
    {
     "name": "stdout",
     "output_type": "stream",
     "text": [
      "4\n",
      "[u'A(l,r)+A(l,r)>A(l,r^1).A(l^1,r)|2', u'A(l,r^1).A(l^1,r)+A(l,r^1).A(l^1,r)>A(l,r^1).A(l^1,r^2).A(l^2,r^3).A(l^3,r)|2', u'A(l,r)+A(l,r^1).A(l^1,r)>A(l,r^1).A(l^1,r^2).A(l^2,r)|2', u'A(l,r)+A(l,r^1).A(l^1,r^2).A(l^2,r)>A(l,r^1).A(l^1,r^2).A(l^2,r^3).A(l^3,r)|2']\n"
     ]
    }
   ],
   "source": [
    "m2 = m1.expand([Species(\"A(l, r)\")], 100, {Species(\"A\"): 4})\n",
    "print(m2.num_reaction_rules())  # => 4\n",
    "print([rr.as_string() for rr in m2.reaction_rules()])"
   ]
  },
  {
   "cell_type": "markdown",
   "metadata": {},
   "source": [
    "## 7.4. Species, ReactionRule そして NetfreeModel の違い\n",
    "\n",
    "上記で説明した機能は似ていますが、基準にはいくつかの違いがあります。\n"
   ]
  },
  {
   "cell_type": "code",
   "execution_count": 26,
   "metadata": {},
   "outputs": [
    {
     "name": "stdout",
     "output_type": "stream",
     "text": [
      "2\n",
      "[u'A(b^1).A(b^1)>A(b)+A(b)|1']\n"
     ]
    }
   ],
   "source": [
    "sp1 = Species(\"A(b^1).A(b^1)\")\n",
    "sp2 = Species(\"A(b)\")\n",
    "rr1 = create_unbinding_reaction_rule(sp1, sp2, sp2, 1.0)\n",
    "print(sp1.count(sp1))\n",
    "print([rr.as_string() for rr in rr1.generate([sp1])])"
   ]
  },
  {
   "cell_type": "markdown",
   "metadata": {},
   "source": [
    "`Species.count`はマッチングのための2つの異なる方法（左右左右）を提案していますが、ReactionRule.generateはただ1つの` ReactionRule`しか返しません。\n",
    "\n",
    "Though `Species.count` suggests two different ways for matching (left-right and right-left), `ReactionRule.generate` returns only one `ReactionRule` because the order doesn't affect the product."
   ]
  },
  {
   "cell_type": "code",
   "execution_count": 27,
   "metadata": {},
   "outputs": [
    {
     "name": "stdout",
     "output_type": "stream",
     "text": [
      "2\n",
      "[u'A(b^1,c^2).A(b^3,c^2).B(b^1).B(b^3)>A(b,c^1).A(b^2,c^1).B(b^2)+B(b)|1', u'A(b^1,c^2).A(b^3,c^2).B(b^1).B(b^3)>A(b^1,c^2).A(b,c^2).B(b^1)+B(b)|1']\n"
     ]
    }
   ],
   "source": [
    "sp1 = Species(\"A(b^1).B(b^1)\")\n",
    "rr1 = create_unbinding_reaction_rule(\n",
    "    sp1, Species(\"A(b)\"), Species(\"B(b)\"), 1.0)\n",
    "sp2 = Species(\"A(b^1,c^2).A(b^3,c^2).B(b^1).B(b^3)\")\n",
    "print(sp1.count(sp2))\n",
    "print([rr.as_string() for rr in rr1.generate([sp2])])"
   ]
  },
  {
   "cell_type": "markdown",
   "metadata": {},
   "source": [
    "In this case, `ReactionRule.generate` works similarly with `Species.count`. However, `Netfree.query_reaction_rules` returns only one `ReationRule` with higher kinetic rate:"
   ]
  },
  {
   "cell_type": "code",
   "execution_count": 28,
   "metadata": {},
   "outputs": [
    {
     "name": "stdout",
     "output_type": "stream",
     "text": [
      "[u'A(b^1,c^2).A(b^3,c^2).B(b^1).B(b^3)>A(b,c^1).A(b^2,c^1).B(b^2)+B(b)|2']\n"
     ]
    }
   ],
   "source": [
    "m1 = NetfreeModel()\n",
    "m1.add_reaction_rule(rr1)\n",
    "print([rr.as_string() for rr in m1.query_reaction_rules(sp2)])"
   ]
  },
  {
   "cell_type": "markdown",
   "metadata": {},
   "source": [
    "`NetfreeModel.query_reaction_rules` checks if each `ReactionRule` generated is the same with others, and summalizes it if possible.\n",
    "\n",
    "As explaned above, `ReactionRule.generate` matters the order of `Species`, but `Netfree.query_reaction_rules` does not."
   ]
  },
  {
   "cell_type": "code",
   "execution_count": 29,
   "metadata": {},
   "outputs": [
    {
     "name": "stdout",
     "output_type": "stream",
     "text": [
      "[u'A(b)+B(b)>A(b^1).B(b^1)|1']\n",
      "[u'A(b)+B(b)>A(b^1).B(b^1)|1']\n",
      "[]\n",
      "[u'B(b)+A(b)>A(b^1).B(b^1)|1']\n"
     ]
    }
   ],
   "source": [
    "sp1 = Species(\"A(b)\")\n",
    "sp2 = Species(\"B(b)\")\n",
    "rr1 = create_binding_reaction_rule(sp1, sp2, Species(\"A(b^1).B(b^1)\"), 1.0)\n",
    "m1 = NetfreeModel()\n",
    "m1.add_reaction_rule(rr1)\n",
    "print([rr.as_string() for rr in rr1.generate([sp1, sp2])])\n",
    "print([rr.as_string() for rr in m1.query_reaction_rules(sp1, sp2)])\n",
    "print([rr.as_string() for rr in rr1.generate([sp2, sp1])])  # => []\n",
    "print([rr.as_string() for rr in m1.query_reaction_rules(sp2, sp1)])"
   ]
  },
  {
   "cell_type": "markdown",
   "metadata": {},
   "source": [
    "Named wildcards must be consistent in the context while nameless wildcards are not necessarily consistent."
   ]
  },
  {
   "cell_type": "code",
   "execution_count": 30,
   "metadata": {},
   "outputs": [
    {
     "name": "stdout",
     "output_type": "stream",
     "text": [
      "1\n",
      "1\n",
      "1\n",
      "1\n",
      "[u'A(b)+A(b)>A(b^1).A(b^1)|1']\n",
      "[u'A(b)+B(b)>A(b^1).B(b^1)|1']\n",
      "[u'A(b)+A(b)>A(b^1).A(b^1)|1']\n",
      "[]\n"
     ]
    }
   ],
   "source": [
    "sp1 = Species(\"_(b)\")\n",
    "sp2 = Species(\"_1(b)\")\n",
    "sp3 = Species(\"A(b)\")\n",
    "sp4 = Species(\"B(b)\")\n",
    "rr1 = create_binding_reaction_rule(sp1, sp1, Species(\"_(b^1)._(b^1)\"), 1)\n",
    "rr2 = create_binding_reaction_rule(sp2, sp2, Species(\"_1(b^1)._1(b^1)\"), 1)\n",
    "print(sp1.count(sp2))  # => 1\n",
    "print(sp1.count(sp3))  # => 1\n",
    "print(sp2.count(sp2))  # => 1\n",
    "print(sp2.count(sp3))  # => 1\n",
    "print([rr.as_string() for rr in rr1.generate([sp3, sp3])])\n",
    "print([rr.as_string() for rr in rr1.generate([sp3, sp4])])\n",
    "print([rr.as_string() for rr in rr2.generate([sp3, sp3])])\n",
    "print([rr.as_string() for rr in rr2.generate([sp3, sp4])])  # => []"
   ]
  }
 ],
 "metadata": {
  "kernelspec": {
   "display_name": "Python 2",
   "language": "python",
   "name": "python2"
  },
  "language_info": {
   "codemirror_mode": {
    "name": "ipython",
    "version": 2
   },
   "file_extension": ".py",
   "mimetype": "text/x-python",
   "name": "python",
   "nbconvert_exporter": "python",
   "pygments_lexer": "ipython2",
   "version": "2.7.11"
  }
 },
 "nbformat": 4,
 "nbformat_minor": 1
}
